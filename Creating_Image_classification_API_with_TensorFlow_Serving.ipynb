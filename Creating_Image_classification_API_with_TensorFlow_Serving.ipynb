{
  "nbformat": 4,
  "nbformat_minor": 0,
  "metadata": {
    "colab": {
      "name": "Creating_Image_classification_API_with_TensorFlow_Serving.ipynb",
      "provenance": [],
      "collapsed_sections": [],
      "toc_visible": true,
      "include_colab_link": true
    },
    "kernelspec": {
      "name": "python3",
      "display_name": "Python 3"
    },
    "accelerator": "GPU"
  },
  "cells": [
    {
      "cell_type": "markdown",
      "metadata": {
        "id": "view-in-github",
        "colab_type": "text"
      },
      "source": [
        "<a href=\"https://colab.research.google.com/github/a4ankan/Amazon-Apparel-Recommendation-Engine/blob/master/Creating_Image_classification_API_with_TensorFlow_Serving.ipynb\" target=\"_parent\"><img src=\"https://colab.research.google.com/assets/colab-badge.svg\" alt=\"Open In Colab\"/></a>"
      ]
    },
    {
      "cell_type": "markdown",
      "metadata": {
        "id": "yCrzPgLp7W1h",
        "colab_type": "text"
      },
      "source": [
        "## Stage 1: Install dependencies and setting up GPU environment"
      ]
    },
    {
      "cell_type": "code",
      "metadata": {
        "id": "w0KGbZuk7T7F",
        "colab_type": "code",
        "outputId": "c201f703-03b0-469b-e5f6-4a0824c37189",
        "colab": {
          "base_uri": "https://localhost:8080/",
          "height": 102
        }
      },
      "source": [
        "!echo \"deb [arch=amd64] http://storage.googleapis.com/tensorflow-serving-apt stable tensorflow-model-server tensorflow-model-server-universal\" | sudo tee /etc/apt/sources.list.d/tensorflow-serving.list && curl https://storage.googleapis.com/tensorflow-serving-apt/tensorflow-serving.release.pub.gpg | sudo apt-key add -"
      ],
      "execution_count": 1,
      "outputs": [
        {
          "output_type": "stream",
          "text": [
            "deb [arch=amd64] http://storage.googleapis.com/tensorflow-serving-apt stable tensorflow-model-server tensorflow-model-server-universal\n",
            "  % Total    % Received % Xferd  Average Speed   Time    Time     Time  Current\n",
            "                                 Dload  Upload   Total   Spent    Left  Speed\n",
            "\r  0     0    0     0    0     0      0      0 --:--:-- --:--:-- --:--:--     0\r100  2943  100  2943    0     0   130k      0 --:--:-- --:--:-- --:--:--  130k\n",
            "OK\n"
          ],
          "name": "stdout"
        }
      ]
    },
    {
      "cell_type": "code",
      "metadata": {
        "id": "-AoEpKnD94Lj",
        "colab_type": "code",
        "outputId": "295a99e6-35f1-4db2-e87f-7eb5b011a6e8",
        "colab": {
          "base_uri": "https://localhost:8080/",
          "height": 544
        }
      },
      "source": [
        "!apt-get update & apt-get install tensorflow-model-server"
      ],
      "execution_count": 2,
      "outputs": [
        {
          "output_type": "stream",
          "text": [
            "\rReading package lists... 0%\r\r0% [Working]\rReading package lists... 0%\r\rReading package lists... 0%\r\r            \rHit:1 http://ppa.launchpad.net/graphics-drivers/ppa/ubuntu bionic InRelease\n",
            "\r0% [Connecting to archive.ubuntu.com (91.189.88.24)] [Waiting for headers] [Con\r                                                                               \rHit:2 http://archive.ubuntu.com/ubuntu bionic InRelease\n",
            "\r                                                                               \rHit:3 http://security.ubuntu.com/ubuntu bionic-security InRelease\n",
            "\r0% [Waiting for headers] [Connecting to cloud.r-project.org] [Connected to deve\r0% [1 InRelease gpgv 21.3 kB] [Waiting for headers] [Connecting to cloud.r-proj\r                                                                               \rHit:4 http://ppa.launchpad.net/marutter/c2d4u3.5/ubuntu bionic InRelease\n",
            "\r0% [1 InRelease gpgv 21.3 kB] [Waiting for headers] [Connecting to cloud.r-proj\r                                                                               \rHit:5 http://archive.ubuntu.com/ubuntu bionic-updates InRelease\n",
            "\r0% [1 InRelease gpgv 21.3 kB] [Waiting for headers] [Connecting to cloud.r-proj\r                                                                               \rHit:6 http://archive.ubuntu.com/ubuntu bionic-backports InRelease\n",
            "\r0% [1 InRelease gpgv 21.3 kB] [Connecting to cloud.r-project.org] [Waiting for \rReading package lists... 7%\r\rReading package lists... 7%\r\rReading package lists... 7%\r\rReading package lists... 7%\r\r                                                                               \rHit:7 http://storage.googleapis.com/tensorflow-serving-apt stable InRelease\n",
            "\r0% [1 InRelease gpgv 21.3 kB] [Connecting to cloud.r-project.org] [Waiting for \r                                                                               \rIgn:8 https://developer.download.nvidia.com/compute/cuda/repos/ubuntu1804/x86_64  InRelease\n",
            "\r0% [1 InRelease gpgv 21.3 kB] [Connecting to cloud.r-project.org] [Waiting for \r                                                                               \r0% [Connecting to cloud.r-project.org] [Waiting for headers]\r0% [2 InRelease gpgv 242 kB] [Connecting to cloud.r-project.org] [Waiting for h\r                                                                               \rIgn:9 https://developer.download.nvidia.com/compute/machine-learning/repos/ubuntu1804/x86_64  InRelease\n",
            "\r                                                                               \r0% [2 InRelease gpgv 242 kB] [Connecting to cloud.r-project.org]\r                                                                \rHit:10 https://developer.download.nvidia.com/compute/cuda/repos/ubuntu1804/x86_64  Release\n",
            "\r0% [2 InRelease gpgv 242 kB] [Connecting to cloud.r-project.org]\r                                                                \rHit:11 https://developer.download.nvidia.com/compute/machine-learning/repos/ubuntu1804/x86_64  Release\n",
            "Hit:12 https://cloud.r-project.org/bin/linux/ubuntu bionic-cran35/ InRelease\n",
            "Reading package lists... Done\n",
            "Building dependency tree       \n",
            "Reading state information... Done\n",
            "0% [Release.gpg gpgv 564 B]The following package was automatically installed and is no longer required:\n",
            "  libnvidia-common-430\n",
            "Use 'apt autoremove' to remove it.\n",
            "The following NEW packages will be installed:\n",
            "  tensorflow-model-server\n",
            "0 upgraded, 1 newly installed, 0 to remove and 19 not upgraded.\n",
            "Need to get 140 MB of archives.\n",
            "After this operation, 0 B of additional disk space will be used.\n",
            "Get:1 http://storage.googleapis.com/tensorflow-serving-apt stable/tensorflow-model-server amd64 tensorflow-model-server all 2.0.0 [140 MB]\n",
            "Reading package lists... Done\n",
            "Fetched 140 MB in 3s (47.9 MB/s)\n",
            "Selecting previously unselected package tensorflow-model-server.\n",
            "(Reading database ... 145674 files and directories currently installed.)\n",
            "Preparing to unpack .../tensorflow-model-server_2.0.0_all.deb ...\n",
            "Unpacking tensorflow-model-server (2.0.0) ...\n",
            "Setting up tensorflow-model-server (2.0.0) ...\n"
          ],
          "name": "stdout"
        }
      ]
    },
    {
      "cell_type": "code",
      "metadata": {
        "id": "a1cAehxr-M9p",
        "colab_type": "code",
        "outputId": "767e3231-c993-4063-98c2-419c01f64caf",
        "colab": {
          "base_uri": "https://localhost:8080/",
          "height": 360
        }
      },
      "source": [
        "!pip install tensorflow-gpu==1.13.1"
      ],
      "execution_count": 3,
      "outputs": [
        {
          "output_type": "stream",
          "text": [
            "Requirement already satisfied: tensorflow-gpu==1.13.1 in /usr/local/lib/python3.6/dist-packages (1.13.1)\n",
            "Requirement already satisfied: astor>=0.6.0 in /usr/local/lib/python3.6/dist-packages (from tensorflow-gpu==1.13.1) (0.8.1)\n",
            "Requirement already satisfied: protobuf>=3.6.1 in /usr/local/lib/python3.6/dist-packages (from tensorflow-gpu==1.13.1) (3.10.0)\n",
            "Requirement already satisfied: tensorflow-estimator<1.14.0rc0,>=1.13.0 in /usr/local/lib/python3.6/dist-packages (from tensorflow-gpu==1.13.1) (1.13.0)\n",
            "Requirement already satisfied: numpy>=1.13.3 in /usr/local/lib/python3.6/dist-packages (from tensorflow-gpu==1.13.1) (1.17.4)\n",
            "Requirement already satisfied: absl-py>=0.1.6 in /usr/local/lib/python3.6/dist-packages (from tensorflow-gpu==1.13.1) (0.8.1)\n",
            "Requirement already satisfied: six>=1.10.0 in /usr/local/lib/python3.6/dist-packages (from tensorflow-gpu==1.13.1) (1.12.0)\n",
            "Requirement already satisfied: keras-applications>=1.0.6 in /usr/local/lib/python3.6/dist-packages (from tensorflow-gpu==1.13.1) (1.0.8)\n",
            "Requirement already satisfied: gast>=0.2.0 in /usr/local/lib/python3.6/dist-packages (from tensorflow-gpu==1.13.1) (0.2.2)\n",
            "Requirement already satisfied: tensorboard<1.14.0,>=1.13.0 in /usr/local/lib/python3.6/dist-packages (from tensorflow-gpu==1.13.1) (1.13.1)\n",
            "Requirement already satisfied: termcolor>=1.1.0 in /usr/local/lib/python3.6/dist-packages (from tensorflow-gpu==1.13.1) (1.1.0)\n",
            "Requirement already satisfied: keras-preprocessing>=1.0.5 in /usr/local/lib/python3.6/dist-packages (from tensorflow-gpu==1.13.1) (1.1.0)\n",
            "Requirement already satisfied: grpcio>=1.8.6 in /usr/local/lib/python3.6/dist-packages (from tensorflow-gpu==1.13.1) (1.15.0)\n",
            "Requirement already satisfied: wheel>=0.26 in /usr/local/lib/python3.6/dist-packages (from tensorflow-gpu==1.13.1) (0.33.6)\n",
            "Requirement already satisfied: setuptools in /usr/local/lib/python3.6/dist-packages (from protobuf>=3.6.1->tensorflow-gpu==1.13.1) (42.0.2)\n",
            "Requirement already satisfied: mock>=2.0.0 in /usr/local/lib/python3.6/dist-packages (from tensorflow-estimator<1.14.0rc0,>=1.13.0->tensorflow-gpu==1.13.1) (3.0.5)\n",
            "Requirement already satisfied: h5py in /usr/local/lib/python3.6/dist-packages (from keras-applications>=1.0.6->tensorflow-gpu==1.13.1) (2.8.0)\n",
            "Requirement already satisfied: markdown>=2.6.8 in /usr/local/lib/python3.6/dist-packages (from tensorboard<1.14.0,>=1.13.0->tensorflow-gpu==1.13.1) (3.1.1)\n",
            "Requirement already satisfied: werkzeug>=0.11.15 in /usr/local/lib/python3.6/dist-packages (from tensorboard<1.14.0,>=1.13.0->tensorflow-gpu==1.13.1) (0.16.0)\n"
          ],
          "name": "stdout"
        }
      ]
    },
    {
      "cell_type": "code",
      "metadata": {
        "id": "zfxOPCl7-Wp7",
        "colab_type": "code",
        "outputId": "5c463a56-931c-492a-9f17-0c8c9fa5f786",
        "colab": {
          "base_uri": "https://localhost:8080/",
          "height": 102
        }
      },
      "source": [
        "!pip install requests"
      ],
      "execution_count": 4,
      "outputs": [
        {
          "output_type": "stream",
          "text": [
            "Requirement already satisfied: requests in /usr/local/lib/python3.6/dist-packages (2.21.0)\n",
            "Requirement already satisfied: certifi>=2017.4.17 in /usr/local/lib/python3.6/dist-packages (from requests) (2019.11.28)\n",
            "Requirement already satisfied: chardet<3.1.0,>=3.0.2 in /usr/local/lib/python3.6/dist-packages (from requests) (3.0.4)\n",
            "Requirement already satisfied: idna<2.9,>=2.5 in /usr/local/lib/python3.6/dist-packages (from requests) (2.8)\n",
            "Requirement already satisfied: urllib3<1.25,>=1.21.1 in /usr/local/lib/python3.6/dist-packages (from requests) (1.24.3)\n"
          ],
          "name": "stdout"
        }
      ]
    },
    {
      "cell_type": "markdown",
      "metadata": {
        "id": "qsgbM_R2-ud_",
        "colab_type": "text"
      },
      "source": [
        "## Stage 2: Import project dependencies"
      ]
    },
    {
      "cell_type": "code",
      "metadata": {
        "id": "Y3taHerg-nkS",
        "colab_type": "code",
        "outputId": "17087ee6-840c-4e37-88b4-3b61b9ac6531",
        "colab": {
          "base_uri": "https://localhost:8080/",
          "height": 304
        }
      },
      "source": [
        "import os\n",
        "import json\n",
        "import random\n",
        "import requests\n",
        "import subprocess\n",
        "import numpy as np\n",
        "import tensorflow as tf\n",
        "import matplotlib.pyplot as plt\n",
        "\n",
        "from tensorflow.keras.datasets import cifar10\n",
        "\n",
        "%matplotlib inline\n",
        "tf.__version__"
      ],
      "execution_count": 5,
      "outputs": [
        {
          "output_type": "stream",
          "text": [
            "/usr/local/lib/python3.6/dist-packages/tensorflow/python/framework/dtypes.py:526: FutureWarning: Passing (type, 1) or '1type' as a synonym of type is deprecated; in a future version of numpy, it will be understood as (type, (1,)) / '(1,)type'.\n",
            "  _np_qint8 = np.dtype([(\"qint8\", np.int8, 1)])\n",
            "/usr/local/lib/python3.6/dist-packages/tensorflow/python/framework/dtypes.py:527: FutureWarning: Passing (type, 1) or '1type' as a synonym of type is deprecated; in a future version of numpy, it will be understood as (type, (1,)) / '(1,)type'.\n",
            "  _np_quint8 = np.dtype([(\"quint8\", np.uint8, 1)])\n",
            "/usr/local/lib/python3.6/dist-packages/tensorflow/python/framework/dtypes.py:528: FutureWarning: Passing (type, 1) or '1type' as a synonym of type is deprecated; in a future version of numpy, it will be understood as (type, (1,)) / '(1,)type'.\n",
            "  _np_qint16 = np.dtype([(\"qint16\", np.int16, 1)])\n",
            "/usr/local/lib/python3.6/dist-packages/tensorflow/python/framework/dtypes.py:529: FutureWarning: Passing (type, 1) or '1type' as a synonym of type is deprecated; in a future version of numpy, it will be understood as (type, (1,)) / '(1,)type'.\n",
            "  _np_quint16 = np.dtype([(\"quint16\", np.uint16, 1)])\n",
            "/usr/local/lib/python3.6/dist-packages/tensorflow/python/framework/dtypes.py:530: FutureWarning: Passing (type, 1) or '1type' as a synonym of type is deprecated; in a future version of numpy, it will be understood as (type, (1,)) / '(1,)type'.\n",
            "  _np_qint32 = np.dtype([(\"qint32\", np.int32, 1)])\n",
            "/usr/local/lib/python3.6/dist-packages/tensorflow/python/framework/dtypes.py:535: FutureWarning: Passing (type, 1) or '1type' as a synonym of type is deprecated; in a future version of numpy, it will be understood as (type, (1,)) / '(1,)type'.\n",
            "  np_resource = np.dtype([(\"resource\", np.ubyte, 1)])\n"
          ],
          "name": "stderr"
        },
        {
          "output_type": "display_data",
          "data": {
            "text/html": [
              "<p style=\"color: red;\">\n",
              "The default version of TensorFlow in Colab will soon switch to TensorFlow 2.x.<br>\n",
              "We recommend you <a href=\"https://www.tensorflow.org/guide/migrate\" target=\"_blank\">upgrade</a> now \n",
              "or ensure your notebook will continue to use TensorFlow 1.x via the <code>%tensorflow_version 1.x</code> magic:\n",
              "<a href=\"https://colab.research.google.com/notebooks/tensorflow_version.ipynb\" target=\"_blank\">more info</a>.</p>\n"
            ],
            "text/plain": [
              "<IPython.core.display.HTML object>"
            ]
          },
          "metadata": {
            "tags": []
          }
        },
        {
          "output_type": "execute_result",
          "data": {
            "text/plain": [
              "'1.13.1'"
            ]
          },
          "metadata": {
            "tags": []
          },
          "execution_count": 5
        }
      ]
    },
    {
      "cell_type": "markdown",
      "metadata": {
        "id": "90mWV1g6_TSt",
        "colab_type": "text"
      },
      "source": [
        "## Stage 3: Dataset preprocessing"
      ]
    },
    {
      "cell_type": "markdown",
      "metadata": {
        "id": "dJsURBeA_XEe",
        "colab_type": "text"
      },
      "source": [
        "### Loading the dataset"
      ]
    },
    {
      "cell_type": "code",
      "metadata": {
        "id": "FVgkziGT_RQZ",
        "colab_type": "code",
        "colab": {}
      },
      "source": [
        "(X_train, y_train), (X_test, y_test) = cifar10.load_data()"
      ],
      "execution_count": 0,
      "outputs": []
    },
    {
      "cell_type": "code",
      "metadata": {
        "id": "hqOyARxY_kC2",
        "colab_type": "code",
        "colab": {}
      },
      "source": [
        "class_names = ['airplane', 'automobile', 'bird', 'cat', 'deer', 'dog', 'frog', 'horse', 'ship', 'truck']"
      ],
      "execution_count": 0,
      "outputs": []
    },
    {
      "cell_type": "markdown",
      "metadata": {
        "id": "B_adA5GI_ZGK",
        "colab_type": "text"
      },
      "source": [
        "### Image normalization"
      ]
    },
    {
      "cell_type": "code",
      "metadata": {
        "id": "VK4HUwLC_akD",
        "colab_type": "code",
        "colab": {}
      },
      "source": [
        "X_train = X_train / 255.0\n",
        "X_test = X_test / 255.0"
      ],
      "execution_count": 0,
      "outputs": []
    },
    {
      "cell_type": "code",
      "metadata": {
        "id": "DgT4_d_GiZem",
        "colab_type": "code",
        "colab": {}
      },
      "source": [
        "#X_train"
      ],
      "execution_count": 0,
      "outputs": []
    },
    {
      "cell_type": "code",
      "metadata": {
        "id": "r3ySRit4iFvD",
        "colab_type": "code",
        "colab": {}
      },
      "source": [
        "#X_train = X_train*2"
      ],
      "execution_count": 0,
      "outputs": []
    },
    {
      "cell_type": "code",
      "metadata": {
        "id": "fEKLTNZqihPg",
        "colab_type": "code",
        "colab": {
          "base_uri": "https://localhost:8080/",
          "height": 1000
        },
        "outputId": "1e60fe75-d30c-48fb-c77a-1d12e39ac1f2"
      },
      "source": [
        "X_train"
      ],
      "execution_count": 11,
      "outputs": [
        {
          "output_type": "execute_result",
          "data": {
            "text/plain": [
              "array([[[[0.23137255, 0.24313725, 0.24705882],\n",
              "         [0.16862745, 0.18039216, 0.17647059],\n",
              "         [0.19607843, 0.18823529, 0.16862745],\n",
              "         ...,\n",
              "         [0.61960784, 0.51764706, 0.42352941],\n",
              "         [0.59607843, 0.49019608, 0.4       ],\n",
              "         [0.58039216, 0.48627451, 0.40392157]],\n",
              "\n",
              "        [[0.0627451 , 0.07843137, 0.07843137],\n",
              "         [0.        , 0.        , 0.        ],\n",
              "         [0.07058824, 0.03137255, 0.        ],\n",
              "         ...,\n",
              "         [0.48235294, 0.34509804, 0.21568627],\n",
              "         [0.46666667, 0.3254902 , 0.19607843],\n",
              "         [0.47843137, 0.34117647, 0.22352941]],\n",
              "\n",
              "        [[0.09803922, 0.09411765, 0.08235294],\n",
              "         [0.0627451 , 0.02745098, 0.        ],\n",
              "         [0.19215686, 0.10588235, 0.03137255],\n",
              "         ...,\n",
              "         [0.4627451 , 0.32941176, 0.19607843],\n",
              "         [0.47058824, 0.32941176, 0.19607843],\n",
              "         [0.42745098, 0.28627451, 0.16470588]],\n",
              "\n",
              "        ...,\n",
              "\n",
              "        [[0.81568627, 0.66666667, 0.37647059],\n",
              "         [0.78823529, 0.6       , 0.13333333],\n",
              "         [0.77647059, 0.63137255, 0.10196078],\n",
              "         ...,\n",
              "         [0.62745098, 0.52156863, 0.2745098 ],\n",
              "         [0.21960784, 0.12156863, 0.02745098],\n",
              "         [0.20784314, 0.13333333, 0.07843137]],\n",
              "\n",
              "        [[0.70588235, 0.54509804, 0.37647059],\n",
              "         [0.67843137, 0.48235294, 0.16470588],\n",
              "         [0.72941176, 0.56470588, 0.11764706],\n",
              "         ...,\n",
              "         [0.72156863, 0.58039216, 0.36862745],\n",
              "         [0.38039216, 0.24313725, 0.13333333],\n",
              "         [0.3254902 , 0.20784314, 0.13333333]],\n",
              "\n",
              "        [[0.69411765, 0.56470588, 0.45490196],\n",
              "         [0.65882353, 0.50588235, 0.36862745],\n",
              "         [0.70196078, 0.55686275, 0.34117647],\n",
              "         ...,\n",
              "         [0.84705882, 0.72156863, 0.54901961],\n",
              "         [0.59215686, 0.4627451 , 0.32941176],\n",
              "         [0.48235294, 0.36078431, 0.28235294]]],\n",
              "\n",
              "\n",
              "       [[[0.60392157, 0.69411765, 0.73333333],\n",
              "         [0.49411765, 0.5372549 , 0.53333333],\n",
              "         [0.41176471, 0.40784314, 0.37254902],\n",
              "         ...,\n",
              "         [0.35686275, 0.37254902, 0.27843137],\n",
              "         [0.34117647, 0.35294118, 0.27843137],\n",
              "         [0.30980392, 0.31764706, 0.2745098 ]],\n",
              "\n",
              "        [[0.54901961, 0.62745098, 0.6627451 ],\n",
              "         [0.56862745, 0.6       , 0.60392157],\n",
              "         [0.49019608, 0.49019608, 0.4627451 ],\n",
              "         ...,\n",
              "         [0.37647059, 0.38823529, 0.30588235],\n",
              "         [0.30196078, 0.31372549, 0.24313725],\n",
              "         [0.27843137, 0.28627451, 0.23921569]],\n",
              "\n",
              "        [[0.54901961, 0.60784314, 0.64313725],\n",
              "         [0.54509804, 0.57254902, 0.58431373],\n",
              "         [0.45098039, 0.45098039, 0.43921569],\n",
              "         ...,\n",
              "         [0.30980392, 0.32156863, 0.25098039],\n",
              "         [0.26666667, 0.2745098 , 0.21568627],\n",
              "         [0.2627451 , 0.27058824, 0.21568627]],\n",
              "\n",
              "        ...,\n",
              "\n",
              "        [[0.68627451, 0.65490196, 0.65098039],\n",
              "         [0.61176471, 0.60392157, 0.62745098],\n",
              "         [0.60392157, 0.62745098, 0.66666667],\n",
              "         ...,\n",
              "         [0.16470588, 0.13333333, 0.14117647],\n",
              "         [0.23921569, 0.20784314, 0.22352941],\n",
              "         [0.36470588, 0.3254902 , 0.35686275]],\n",
              "\n",
              "        [[0.64705882, 0.60392157, 0.50196078],\n",
              "         [0.61176471, 0.59607843, 0.50980392],\n",
              "         [0.62352941, 0.63137255, 0.55686275],\n",
              "         ...,\n",
              "         [0.40392157, 0.36470588, 0.37647059],\n",
              "         [0.48235294, 0.44705882, 0.47058824],\n",
              "         [0.51372549, 0.4745098 , 0.51372549]],\n",
              "\n",
              "        [[0.63921569, 0.58039216, 0.47058824],\n",
              "         [0.61960784, 0.58039216, 0.47843137],\n",
              "         [0.63921569, 0.61176471, 0.52156863],\n",
              "         ...,\n",
              "         [0.56078431, 0.52156863, 0.54509804],\n",
              "         [0.56078431, 0.5254902 , 0.55686275],\n",
              "         [0.56078431, 0.52156863, 0.56470588]]],\n",
              "\n",
              "\n",
              "       [[[1.        , 1.        , 1.        ],\n",
              "         [0.99215686, 0.99215686, 0.99215686],\n",
              "         [0.99215686, 0.99215686, 0.99215686],\n",
              "         ...,\n",
              "         [0.99215686, 0.99215686, 0.99215686],\n",
              "         [0.99215686, 0.99215686, 0.99215686],\n",
              "         [0.99215686, 0.99215686, 0.99215686]],\n",
              "\n",
              "        [[1.        , 1.        , 1.        ],\n",
              "         [1.        , 1.        , 1.        ],\n",
              "         [1.        , 1.        , 1.        ],\n",
              "         ...,\n",
              "         [1.        , 1.        , 1.        ],\n",
              "         [1.        , 1.        , 1.        ],\n",
              "         [1.        , 1.        , 1.        ]],\n",
              "\n",
              "        [[1.        , 1.        , 1.        ],\n",
              "         [0.99607843, 0.99607843, 0.99607843],\n",
              "         [0.99607843, 0.99607843, 0.99607843],\n",
              "         ...,\n",
              "         [0.99607843, 0.99607843, 0.99607843],\n",
              "         [0.99607843, 0.99607843, 0.99607843],\n",
              "         [0.99607843, 0.99607843, 0.99607843]],\n",
              "\n",
              "        ...,\n",
              "\n",
              "        [[0.44313725, 0.47058824, 0.43921569],\n",
              "         [0.43529412, 0.4627451 , 0.43529412],\n",
              "         [0.41176471, 0.43921569, 0.41568627],\n",
              "         ...,\n",
              "         [0.28235294, 0.31764706, 0.31372549],\n",
              "         [0.28235294, 0.31372549, 0.30980392],\n",
              "         [0.28235294, 0.31372549, 0.30980392]],\n",
              "\n",
              "        [[0.43529412, 0.4627451 , 0.43137255],\n",
              "         [0.40784314, 0.43529412, 0.40784314],\n",
              "         [0.38823529, 0.41568627, 0.38431373],\n",
              "         ...,\n",
              "         [0.26666667, 0.29411765, 0.28627451],\n",
              "         [0.2745098 , 0.29803922, 0.29411765],\n",
              "         [0.30588235, 0.32941176, 0.32156863]],\n",
              "\n",
              "        [[0.41568627, 0.44313725, 0.41176471],\n",
              "         [0.38823529, 0.41568627, 0.38431373],\n",
              "         [0.37254902, 0.4       , 0.36862745],\n",
              "         ...,\n",
              "         [0.30588235, 0.33333333, 0.3254902 ],\n",
              "         [0.30980392, 0.33333333, 0.3254902 ],\n",
              "         [0.31372549, 0.3372549 , 0.32941176]]],\n",
              "\n",
              "\n",
              "       ...,\n",
              "\n",
              "\n",
              "       [[[0.1372549 , 0.69803922, 0.92156863],\n",
              "         [0.15686275, 0.69019608, 0.9372549 ],\n",
              "         [0.16470588, 0.69019608, 0.94509804],\n",
              "         ...,\n",
              "         [0.38823529, 0.69411765, 0.85882353],\n",
              "         [0.30980392, 0.57647059, 0.77254902],\n",
              "         [0.34901961, 0.58039216, 0.74117647]],\n",
              "\n",
              "        [[0.22352941, 0.71372549, 0.91764706],\n",
              "         [0.17254902, 0.72156863, 0.98039216],\n",
              "         [0.19607843, 0.71764706, 0.94117647],\n",
              "         ...,\n",
              "         [0.61176471, 0.71372549, 0.78431373],\n",
              "         [0.55294118, 0.69411765, 0.80784314],\n",
              "         [0.45490196, 0.58431373, 0.68627451]],\n",
              "\n",
              "        [[0.38431373, 0.77254902, 0.92941176],\n",
              "         [0.25098039, 0.74117647, 0.98823529],\n",
              "         [0.27058824, 0.75294118, 0.96078431],\n",
              "         ...,\n",
              "         [0.7372549 , 0.76470588, 0.80784314],\n",
              "         [0.46666667, 0.52941176, 0.57647059],\n",
              "         [0.23921569, 0.30980392, 0.35294118]],\n",
              "\n",
              "        ...,\n",
              "\n",
              "        [[0.28627451, 0.30980392, 0.30196078],\n",
              "         [0.20784314, 0.24705882, 0.26666667],\n",
              "         [0.21176471, 0.26666667, 0.31372549],\n",
              "         ...,\n",
              "         [0.06666667, 0.15686275, 0.25098039],\n",
              "         [0.08235294, 0.14117647, 0.2       ],\n",
              "         [0.12941176, 0.18823529, 0.19215686]],\n",
              "\n",
              "        [[0.23921569, 0.26666667, 0.29411765],\n",
              "         [0.21568627, 0.2745098 , 0.3372549 ],\n",
              "         [0.22352941, 0.30980392, 0.40392157],\n",
              "         ...,\n",
              "         [0.09411765, 0.18823529, 0.28235294],\n",
              "         [0.06666667, 0.1372549 , 0.20784314],\n",
              "         [0.02745098, 0.09019608, 0.1254902 ]],\n",
              "\n",
              "        [[0.17254902, 0.21960784, 0.28627451],\n",
              "         [0.18039216, 0.25882353, 0.34509804],\n",
              "         [0.19215686, 0.30196078, 0.41176471],\n",
              "         ...,\n",
              "         [0.10588235, 0.20392157, 0.30196078],\n",
              "         [0.08235294, 0.16862745, 0.25882353],\n",
              "         [0.04705882, 0.12156863, 0.19607843]]],\n",
              "\n",
              "\n",
              "       [[[0.74117647, 0.82745098, 0.94117647],\n",
              "         [0.72941176, 0.81568627, 0.9254902 ],\n",
              "         [0.7254902 , 0.81176471, 0.92156863],\n",
              "         ...,\n",
              "         [0.68627451, 0.76470588, 0.87843137],\n",
              "         [0.6745098 , 0.76078431, 0.87058824],\n",
              "         [0.6627451 , 0.76078431, 0.8627451 ]],\n",
              "\n",
              "        [[0.76078431, 0.82352941, 0.9372549 ],\n",
              "         [0.74901961, 0.81176471, 0.9254902 ],\n",
              "         [0.74509804, 0.80784314, 0.92156863],\n",
              "         ...,\n",
              "         [0.67843137, 0.75294118, 0.8627451 ],\n",
              "         [0.67058824, 0.74901961, 0.85490196],\n",
              "         [0.65490196, 0.74509804, 0.84705882]],\n",
              "\n",
              "        [[0.81568627, 0.85882353, 0.95686275],\n",
              "         [0.80392157, 0.84705882, 0.94117647],\n",
              "         [0.8       , 0.84313725, 0.9372549 ],\n",
              "         ...,\n",
              "         [0.68627451, 0.74901961, 0.85098039],\n",
              "         [0.6745098 , 0.74509804, 0.84705882],\n",
              "         [0.6627451 , 0.74901961, 0.84313725]],\n",
              "\n",
              "        ...,\n",
              "\n",
              "        [[0.81176471, 0.78039216, 0.70980392],\n",
              "         [0.79607843, 0.76470588, 0.68627451],\n",
              "         [0.79607843, 0.76862745, 0.67843137],\n",
              "         ...,\n",
              "         [0.52941176, 0.51764706, 0.49803922],\n",
              "         [0.63529412, 0.61960784, 0.58823529],\n",
              "         [0.65882353, 0.63921569, 0.59215686]],\n",
              "\n",
              "        [[0.77647059, 0.74509804, 0.66666667],\n",
              "         [0.74117647, 0.70980392, 0.62352941],\n",
              "         [0.70588235, 0.6745098 , 0.57647059],\n",
              "         ...,\n",
              "         [0.69803922, 0.67058824, 0.62745098],\n",
              "         [0.68627451, 0.6627451 , 0.61176471],\n",
              "         [0.68627451, 0.6627451 , 0.60392157]],\n",
              "\n",
              "        [[0.77647059, 0.74117647, 0.67843137],\n",
              "         [0.74117647, 0.70980392, 0.63529412],\n",
              "         [0.69803922, 0.66666667, 0.58431373],\n",
              "         ...,\n",
              "         [0.76470588, 0.72156863, 0.6627451 ],\n",
              "         [0.76862745, 0.74117647, 0.67058824],\n",
              "         [0.76470588, 0.74509804, 0.67058824]]],\n",
              "\n",
              "\n",
              "       [[[0.89803922, 0.89803922, 0.9372549 ],\n",
              "         [0.9254902 , 0.92941176, 0.96862745],\n",
              "         [0.91764706, 0.9254902 , 0.96862745],\n",
              "         ...,\n",
              "         [0.85098039, 0.85882353, 0.91372549],\n",
              "         [0.86666667, 0.8745098 , 0.91764706],\n",
              "         [0.87058824, 0.8745098 , 0.91372549]],\n",
              "\n",
              "        [[0.87058824, 0.86666667, 0.89803922],\n",
              "         [0.9372549 , 0.9372549 , 0.97647059],\n",
              "         [0.91372549, 0.91764706, 0.96470588],\n",
              "         ...,\n",
              "         [0.8745098 , 0.8745098 , 0.9254902 ],\n",
              "         [0.89019608, 0.89411765, 0.93333333],\n",
              "         [0.82352941, 0.82745098, 0.8627451 ]],\n",
              "\n",
              "        [[0.83529412, 0.80784314, 0.82745098],\n",
              "         [0.91764706, 0.90980392, 0.9372549 ],\n",
              "         [0.90588235, 0.91372549, 0.95686275],\n",
              "         ...,\n",
              "         [0.8627451 , 0.8627451 , 0.90980392],\n",
              "         [0.8627451 , 0.85882353, 0.90980392],\n",
              "         [0.79215686, 0.79607843, 0.84313725]],\n",
              "\n",
              "        ...,\n",
              "\n",
              "        [[0.58823529, 0.56078431, 0.52941176],\n",
              "         [0.54901961, 0.52941176, 0.49803922],\n",
              "         [0.51764706, 0.49803922, 0.47058824],\n",
              "         ...,\n",
              "         [0.87843137, 0.87058824, 0.85490196],\n",
              "         [0.90196078, 0.89411765, 0.88235294],\n",
              "         [0.94509804, 0.94509804, 0.93333333]],\n",
              "\n",
              "        [[0.5372549 , 0.51764706, 0.49411765],\n",
              "         [0.50980392, 0.49803922, 0.47058824],\n",
              "         [0.49019608, 0.4745098 , 0.45098039],\n",
              "         ...,\n",
              "         [0.70980392, 0.70588235, 0.69803922],\n",
              "         [0.79215686, 0.78823529, 0.77647059],\n",
              "         [0.83137255, 0.82745098, 0.81176471]],\n",
              "\n",
              "        [[0.47843137, 0.46666667, 0.44705882],\n",
              "         [0.4627451 , 0.45490196, 0.43137255],\n",
              "         [0.47058824, 0.45490196, 0.43529412],\n",
              "         ...,\n",
              "         [0.70196078, 0.69411765, 0.67843137],\n",
              "         [0.64313725, 0.64313725, 0.63529412],\n",
              "         [0.63921569, 0.63921569, 0.63137255]]]])"
            ]
          },
          "metadata": {
            "tags": []
          },
          "execution_count": 11
        }
      ]
    },
    {
      "cell_type": "code",
      "metadata": {
        "id": "Q2A1OrRg_bD8",
        "colab_type": "code",
        "outputId": "b51f6d67-782e-4992-ac68-dec47e920cd8",
        "colab": {
          "base_uri": "https://localhost:8080/",
          "height": 34
        }
      },
      "source": [
        "X_train.shape"
      ],
      "execution_count": 12,
      "outputs": [
        {
          "output_type": "execute_result",
          "data": {
            "text/plain": [
              "(50000, 32, 32, 3)"
            ]
          },
          "metadata": {
            "tags": []
          },
          "execution_count": 12
        }
      ]
    },
    {
      "cell_type": "markdown",
      "metadata": {
        "id": "HO6nL_9sBLPo",
        "colab_type": "text"
      },
      "source": [
        "## Stage 4: Defining the model\n",
        "\n",
        "NOTE: We are using the model from the Section for Convolutional neural networks"
      ]
    },
    {
      "cell_type": "code",
      "metadata": {
        "id": "FHyAvU8OA_aq",
        "colab_type": "code",
        "outputId": "d97637e0-1f5a-4a30-c220-bfa6b5dba1f4",
        "colab": {
          "base_uri": "https://localhost:8080/",
          "height": 88
        }
      },
      "source": [
        "model = tf.keras.models.Sequential()\n",
        "model.add(tf.keras.layers.Conv2D(filters=32, kernel_size=3, padding=\"same\", activation=\"relu\", input_shape=[32, 32, 3]))\n",
        "model.add(tf.keras.layers.Conv2D(filters=32, kernel_size=3, padding=\"same\", activation=\"relu\"))\n",
        "model.add(tf.keras.layers.MaxPool2D(pool_size=2, strides=2, padding='valid'))\n",
        "model.add(tf.keras.layers.Conv2D(filters=64, kernel_size=3, padding=\"same\", activation=\"relu\"))\n",
        "model.add(tf.keras.layers.Conv2D(filters=64, kernel_size=3, padding=\"same\", activation=\"relu\"))\n",
        "model.add(tf.keras.layers.MaxPool2D(pool_size=2, strides=2, padding='valid'))\n",
        "model.add(tf.keras.layers.Flatten())\n",
        "model.add(tf.keras.layers.Dense(units=128, activation='relu'))\n",
        "model.add(tf.keras.layers.Dense(units=10, activation='softmax'))"
      ],
      "execution_count": 13,
      "outputs": [
        {
          "output_type": "stream",
          "text": [
            "WARNING:tensorflow:From /usr/local/lib/python3.6/dist-packages/tensorflow/python/ops/resource_variable_ops.py:435: colocate_with (from tensorflow.python.framework.ops) is deprecated and will be removed in a future version.\n",
            "Instructions for updating:\n",
            "Colocations handled automatically by placer.\n"
          ],
          "name": "stdout"
        }
      ]
    },
    {
      "cell_type": "markdown",
      "metadata": {
        "id": "J-7vFhykBgMj",
        "colab_type": "text"
      },
      "source": [
        "### Compiling the model"
      ]
    },
    {
      "cell_type": "code",
      "metadata": {
        "id": "5nqrVFn3BkeS",
        "colab_type": "code",
        "colab": {}
      },
      "source": [
        "model.compile(optimizer='Adam', \n",
        "              loss='sparse_categorical_crossentropy', \n",
        "              metrics=['sparse_categorical_accuracy'])"
      ],
      "execution_count": 0,
      "outputs": []
    },
    {
      "cell_type": "markdown",
      "metadata": {
        "id": "JJ1X_hgBBmx9",
        "colab_type": "text"
      },
      "source": [
        "### Training the model"
      ]
    },
    {
      "cell_type": "code",
      "metadata": {
        "id": "I7FSeHUkBpUq",
        "colab_type": "code",
        "outputId": "77f62231-828d-4ef5-d91b-919aa1b7ec5b",
        "colab": {
          "base_uri": "https://localhost:8080/",
          "height": 1000
        }
      },
      "source": [
        "model.fit(X_train, \n",
        "          y_train, \n",
        "          batch_size=128, \n",
        "          epochs=100)"
      ],
      "execution_count": 15,
      "outputs": [
        {
          "output_type": "stream",
          "text": [
            "Epoch 1/100\n",
            "50000/50000 [==============================] - 6s 114us/sample - loss: 1.4880 - sparse_categorical_accuracy: 0.4604\n",
            "Epoch 2/100\n",
            "50000/50000 [==============================] - 4s 83us/sample - loss: 1.0287 - sparse_categorical_accuracy: 0.6373\n",
            "Epoch 3/100\n",
            "50000/50000 [==============================] - 4s 83us/sample - loss: 0.8484 - sparse_categorical_accuracy: 0.7037\n",
            "Epoch 4/100\n",
            "50000/50000 [==============================] - 4s 83us/sample - loss: 0.7233 - sparse_categorical_accuracy: 0.7489\n",
            "Epoch 5/100\n",
            "50000/50000 [==============================] - 4s 83us/sample - loss: 0.6165 - sparse_categorical_accuracy: 0.7849\n",
            "Epoch 6/100\n",
            "50000/50000 [==============================] - 4s 82us/sample - loss: 0.5421 - sparse_categorical_accuracy: 0.8107\n",
            "Epoch 7/100\n",
            "50000/50000 [==============================] - 4s 83us/sample - loss: 0.4646 - sparse_categorical_accuracy: 0.8376\n",
            "Epoch 8/100\n",
            "50000/50000 [==============================] - 4s 84us/sample - loss: 0.3914 - sparse_categorical_accuracy: 0.8622\n",
            "Epoch 9/100\n",
            "50000/50000 [==============================] - 4s 84us/sample - loss: 0.3177 - sparse_categorical_accuracy: 0.8884\n",
            "Epoch 10/100\n",
            "50000/50000 [==============================] - 4s 85us/sample - loss: 0.2552 - sparse_categorical_accuracy: 0.9086\n",
            "Epoch 11/100\n",
            "50000/50000 [==============================] - 4s 84us/sample - loss: 0.2041 - sparse_categorical_accuracy: 0.9275\n",
            "Epoch 12/100\n",
            "50000/50000 [==============================] - 4s 83us/sample - loss: 0.1682 - sparse_categorical_accuracy: 0.9404\n",
            "Epoch 13/100\n",
            "50000/50000 [==============================] - 4s 83us/sample - loss: 0.1249 - sparse_categorical_accuracy: 0.9555\n",
            "Epoch 14/100\n",
            "50000/50000 [==============================] - 4s 84us/sample - loss: 0.1086 - sparse_categorical_accuracy: 0.9612\n",
            "Epoch 15/100\n",
            "50000/50000 [==============================] - 4s 83us/sample - loss: 0.1003 - sparse_categorical_accuracy: 0.9637\n",
            "Epoch 16/100\n",
            "50000/50000 [==============================] - 4s 83us/sample - loss: 0.0866 - sparse_categorical_accuracy: 0.9684\n",
            "Epoch 17/100\n",
            "50000/50000 [==============================] - 4s 83us/sample - loss: 0.0785 - sparse_categorical_accuracy: 0.9724\n",
            "Epoch 18/100\n",
            "50000/50000 [==============================] - 4s 83us/sample - loss: 0.0695 - sparse_categorical_accuracy: 0.9750\n",
            "Epoch 19/100\n",
            "50000/50000 [==============================] - 4s 83us/sample - loss: 0.0738 - sparse_categorical_accuracy: 0.9735\n",
            "Epoch 20/100\n",
            "50000/50000 [==============================] - 4s 82us/sample - loss: 0.0688 - sparse_categorical_accuracy: 0.9757\n",
            "Epoch 21/100\n",
            "50000/50000 [==============================] - 4s 83us/sample - loss: 0.0521 - sparse_categorical_accuracy: 0.9821\n",
            "Epoch 22/100\n",
            "50000/50000 [==============================] - 4s 84us/sample - loss: 0.0732 - sparse_categorical_accuracy: 0.9753\n",
            "Epoch 23/100\n",
            "50000/50000 [==============================] - 4s 83us/sample - loss: 0.0473 - sparse_categorical_accuracy: 0.9839\n",
            "Epoch 24/100\n",
            "50000/50000 [==============================] - 4s 83us/sample - loss: 0.0464 - sparse_categorical_accuracy: 0.9839\n",
            "Epoch 25/100\n",
            "50000/50000 [==============================] - 4s 84us/sample - loss: 0.0677 - sparse_categorical_accuracy: 0.9761\n",
            "Epoch 26/100\n",
            "50000/50000 [==============================] - 4s 83us/sample - loss: 0.0477 - sparse_categorical_accuracy: 0.9836\n",
            "Epoch 27/100\n",
            "50000/50000 [==============================] - 4s 83us/sample - loss: 0.0445 - sparse_categorical_accuracy: 0.9845\n",
            "Epoch 28/100\n",
            "50000/50000 [==============================] - 4s 82us/sample - loss: 0.0513 - sparse_categorical_accuracy: 0.9827\n",
            "Epoch 29/100\n",
            "50000/50000 [==============================] - 4s 83us/sample - loss: 0.0478 - sparse_categorical_accuracy: 0.9842\n",
            "Epoch 30/100\n",
            "50000/50000 [==============================] - 4s 84us/sample - loss: 0.0483 - sparse_categorical_accuracy: 0.9835\n",
            "Epoch 31/100\n",
            "50000/50000 [==============================] - 4s 84us/sample - loss: 0.0509 - sparse_categorical_accuracy: 0.9825\n",
            "Epoch 32/100\n",
            "50000/50000 [==============================] - 4s 83us/sample - loss: 0.0448 - sparse_categorical_accuracy: 0.9855\n",
            "Epoch 33/100\n",
            "50000/50000 [==============================] - 4s 83us/sample - loss: 0.0381 - sparse_categorical_accuracy: 0.9873\n",
            "Epoch 34/100\n",
            "50000/50000 [==============================] - 4s 83us/sample - loss: 0.0490 - sparse_categorical_accuracy: 0.9836\n",
            "Epoch 35/100\n",
            "50000/50000 [==============================] - 4s 83us/sample - loss: 0.0458 - sparse_categorical_accuracy: 0.9846\n",
            "Epoch 36/100\n",
            "50000/50000 [==============================] - 4s 83us/sample - loss: 0.0312 - sparse_categorical_accuracy: 0.9889\n",
            "Epoch 37/100\n",
            "50000/50000 [==============================] - 4s 83us/sample - loss: 0.0492 - sparse_categorical_accuracy: 0.9843\n",
            "Epoch 38/100\n",
            "50000/50000 [==============================] - 4s 84us/sample - loss: 0.0473 - sparse_categorical_accuracy: 0.9850\n",
            "Epoch 39/100\n",
            "50000/50000 [==============================] - 4s 83us/sample - loss: 0.0424 - sparse_categorical_accuracy: 0.9857\n",
            "Epoch 40/100\n",
            "50000/50000 [==============================] - 4s 84us/sample - loss: 0.0313 - sparse_categorical_accuracy: 0.9898\n",
            "Epoch 41/100\n",
            "50000/50000 [==============================] - 4s 86us/sample - loss: 0.0429 - sparse_categorical_accuracy: 0.9859\n",
            "Epoch 42/100\n",
            "50000/50000 [==============================] - 4s 85us/sample - loss: 0.0432 - sparse_categorical_accuracy: 0.9862\n",
            "Epoch 43/100\n",
            "50000/50000 [==============================] - 4s 84us/sample - loss: 0.0405 - sparse_categorical_accuracy: 0.9869\n",
            "Epoch 44/100\n",
            "50000/50000 [==============================] - 4s 84us/sample - loss: 0.0307 - sparse_categorical_accuracy: 0.9898\n",
            "Epoch 45/100\n",
            "50000/50000 [==============================] - 4s 83us/sample - loss: 0.0297 - sparse_categorical_accuracy: 0.9901\n",
            "Epoch 46/100\n",
            "50000/50000 [==============================] - 4s 83us/sample - loss: 0.0360 - sparse_categorical_accuracy: 0.9880\n",
            "Epoch 47/100\n",
            "50000/50000 [==============================] - 4s 83us/sample - loss: 0.0420 - sparse_categorical_accuracy: 0.9868\n",
            "Epoch 48/100\n",
            "50000/50000 [==============================] - 4s 83us/sample - loss: 0.0322 - sparse_categorical_accuracy: 0.9892\n",
            "Epoch 49/100\n",
            "50000/50000 [==============================] - 4s 83us/sample - loss: 0.0392 - sparse_categorical_accuracy: 0.9876\n",
            "Epoch 50/100\n",
            "50000/50000 [==============================] - 4s 83us/sample - loss: 0.0310 - sparse_categorical_accuracy: 0.9903\n",
            "Epoch 51/100\n",
            "50000/50000 [==============================] - 4s 82us/sample - loss: 0.0344 - sparse_categorical_accuracy: 0.9889\n",
            "Epoch 52/100\n",
            "50000/50000 [==============================] - 4s 84us/sample - loss: 0.0451 - sparse_categorical_accuracy: 0.9856\n",
            "Epoch 53/100\n",
            "50000/50000 [==============================] - 4s 82us/sample - loss: 0.0330 - sparse_categorical_accuracy: 0.9894\n",
            "Epoch 54/100\n",
            "50000/50000 [==============================] - 4s 84us/sample - loss: 0.0189 - sparse_categorical_accuracy: 0.9938\n",
            "Epoch 55/100\n",
            "50000/50000 [==============================] - 4s 82us/sample - loss: 0.0482 - sparse_categorical_accuracy: 0.9854\n",
            "Epoch 56/100\n",
            "50000/50000 [==============================] - 4s 83us/sample - loss: 0.0312 - sparse_categorical_accuracy: 0.9900\n",
            "Epoch 57/100\n",
            "50000/50000 [==============================] - 4s 83us/sample - loss: 0.0262 - sparse_categorical_accuracy: 0.9917\n",
            "Epoch 58/100\n",
            "50000/50000 [==============================] - 4s 83us/sample - loss: 0.0477 - sparse_categorical_accuracy: 0.9848\n",
            "Epoch 59/100\n",
            "50000/50000 [==============================] - 4s 83us/sample - loss: 0.0247 - sparse_categorical_accuracy: 0.9920\n",
            "Epoch 60/100\n",
            "50000/50000 [==============================] - 4s 83us/sample - loss: 0.0301 - sparse_categorical_accuracy: 0.9908\n",
            "Epoch 61/100\n",
            "50000/50000 [==============================] - 4s 82us/sample - loss: 0.0322 - sparse_categorical_accuracy: 0.9899\n",
            "Epoch 62/100\n",
            "50000/50000 [==============================] - 4s 83us/sample - loss: 0.0298 - sparse_categorical_accuracy: 0.9907\n",
            "Epoch 63/100\n",
            "50000/50000 [==============================] - 4s 83us/sample - loss: 0.0318 - sparse_categorical_accuracy: 0.9898\n",
            "Epoch 64/100\n",
            "50000/50000 [==============================] - 4s 82us/sample - loss: 0.0311 - sparse_categorical_accuracy: 0.9900\n",
            "Epoch 65/100\n",
            "50000/50000 [==============================] - 4s 82us/sample - loss: 0.0333 - sparse_categorical_accuracy: 0.9898\n",
            "Epoch 66/100\n",
            "50000/50000 [==============================] - 4s 83us/sample - loss: 0.0273 - sparse_categorical_accuracy: 0.9917\n",
            "Epoch 67/100\n",
            "50000/50000 [==============================] - 4s 84us/sample - loss: 0.0393 - sparse_categorical_accuracy: 0.9883\n",
            "Epoch 68/100\n",
            "50000/50000 [==============================] - 4s 82us/sample - loss: 0.0209 - sparse_categorical_accuracy: 0.9933\n",
            "Epoch 69/100\n",
            "50000/50000 [==============================] - 4s 83us/sample - loss: 0.0359 - sparse_categorical_accuracy: 0.9889\n",
            "Epoch 70/100\n",
            "50000/50000 [==============================] - 4s 82us/sample - loss: 0.0315 - sparse_categorical_accuracy: 0.9906\n",
            "Epoch 71/100\n",
            "50000/50000 [==============================] - 4s 83us/sample - loss: 0.0118 - sparse_categorical_accuracy: 0.9959\n",
            "Epoch 72/100\n",
            "50000/50000 [==============================] - 4s 83us/sample - loss: 0.0401 - sparse_categorical_accuracy: 0.9886\n",
            "Epoch 73/100\n",
            "50000/50000 [==============================] - 4s 83us/sample - loss: 0.0333 - sparse_categorical_accuracy: 0.9895\n",
            "Epoch 74/100\n",
            "50000/50000 [==============================] - 4s 83us/sample - loss: 0.0235 - sparse_categorical_accuracy: 0.9928\n",
            "Epoch 75/100\n",
            "50000/50000 [==============================] - 4s 83us/sample - loss: 0.0362 - sparse_categorical_accuracy: 0.9889\n",
            "Epoch 76/100\n",
            "50000/50000 [==============================] - 4s 82us/sample - loss: 0.0240 - sparse_categorical_accuracy: 0.9928\n",
            "Epoch 77/100\n",
            "50000/50000 [==============================] - 4s 83us/sample - loss: 0.0282 - sparse_categorical_accuracy: 0.9916\n",
            "Epoch 78/100\n",
            "50000/50000 [==============================] - 4s 83us/sample - loss: 0.0330 - sparse_categorical_accuracy: 0.9897\n",
            "Epoch 79/100\n",
            "50000/50000 [==============================] - 4s 83us/sample - loss: 0.0244 - sparse_categorical_accuracy: 0.9924\n",
            "Epoch 80/100\n",
            "50000/50000 [==============================] - 4s 82us/sample - loss: 0.0262 - sparse_categorical_accuracy: 0.9918\n",
            "Epoch 81/100\n",
            "50000/50000 [==============================] - 4s 83us/sample - loss: 0.0320 - sparse_categorical_accuracy: 0.9908\n",
            "Epoch 82/100\n",
            "50000/50000 [==============================] - 4s 83us/sample - loss: 0.0246 - sparse_categorical_accuracy: 0.9922\n",
            "Epoch 83/100\n",
            "50000/50000 [==============================] - 4s 84us/sample - loss: 0.0223 - sparse_categorical_accuracy: 0.9933\n",
            "Epoch 84/100\n",
            "50000/50000 [==============================] - 4s 85us/sample - loss: 0.0300 - sparse_categorical_accuracy: 0.9911\n",
            "Epoch 85/100\n",
            "50000/50000 [==============================] - 4s 83us/sample - loss: 0.0309 - sparse_categorical_accuracy: 0.9907\n",
            "Epoch 86/100\n",
            "50000/50000 [==============================] - 4s 82us/sample - loss: 0.0192 - sparse_categorical_accuracy: 0.9936\n",
            "Epoch 87/100\n",
            "50000/50000 [==============================] - 4s 84us/sample - loss: 0.0246 - sparse_categorical_accuracy: 0.9922\n",
            "Epoch 88/100\n",
            "36608/50000 [====================>.........] - ETA: 1s - loss: 0.0160 - sparse_categorical_accuracy: 0.9952"
          ],
          "name": "stdout"
        },
        {
          "output_type": "error",
          "ename": "KeyboardInterrupt",
          "evalue": "ignored",
          "traceback": [
            "\u001b[0;31m---------------------------------------------------------------------------\u001b[0m",
            "\u001b[0;31mKeyboardInterrupt\u001b[0m                         Traceback (most recent call last)",
            "\u001b[0;32m<ipython-input-15-49fb58c6af80>\u001b[0m in \u001b[0;36m<module>\u001b[0;34m()\u001b[0m\n\u001b[1;32m      2\u001b[0m           \u001b[0my_train\u001b[0m\u001b[0;34m,\u001b[0m\u001b[0;34m\u001b[0m\u001b[0;34m\u001b[0m\u001b[0m\n\u001b[1;32m      3\u001b[0m           \u001b[0mbatch_size\u001b[0m\u001b[0;34m=\u001b[0m\u001b[0;36m128\u001b[0m\u001b[0;34m,\u001b[0m\u001b[0;34m\u001b[0m\u001b[0;34m\u001b[0m\u001b[0m\n\u001b[0;32m----> 4\u001b[0;31m           epochs=100)\n\u001b[0m",
            "\u001b[0;32m/usr/local/lib/python3.6/dist-packages/tensorflow/python/keras/engine/training.py\u001b[0m in \u001b[0;36mfit\u001b[0;34m(self, x, y, batch_size, epochs, verbose, callbacks, validation_split, validation_data, shuffle, class_weight, sample_weight, initial_epoch, steps_per_epoch, validation_steps, max_queue_size, workers, use_multiprocessing, **kwargs)\u001b[0m\n\u001b[1;32m    878\u001b[0m           \u001b[0minitial_epoch\u001b[0m\u001b[0;34m=\u001b[0m\u001b[0minitial_epoch\u001b[0m\u001b[0;34m,\u001b[0m\u001b[0;34m\u001b[0m\u001b[0;34m\u001b[0m\u001b[0m\n\u001b[1;32m    879\u001b[0m           \u001b[0msteps_per_epoch\u001b[0m\u001b[0;34m=\u001b[0m\u001b[0msteps_per_epoch\u001b[0m\u001b[0;34m,\u001b[0m\u001b[0;34m\u001b[0m\u001b[0;34m\u001b[0m\u001b[0m\n\u001b[0;32m--> 880\u001b[0;31m           validation_steps=validation_steps)\n\u001b[0m\u001b[1;32m    881\u001b[0m \u001b[0;34m\u001b[0m\u001b[0m\n\u001b[1;32m    882\u001b[0m   def evaluate(self,\n",
            "\u001b[0;32m/usr/local/lib/python3.6/dist-packages/tensorflow/python/keras/engine/training_arrays.py\u001b[0m in \u001b[0;36mmodel_iteration\u001b[0;34m(model, inputs, targets, sample_weights, batch_size, epochs, verbose, callbacks, val_inputs, val_targets, val_sample_weights, shuffle, initial_epoch, steps_per_epoch, validation_steps, mode, validation_in_fit, **kwargs)\u001b[0m\n\u001b[1;32m    327\u001b[0m \u001b[0;34m\u001b[0m\u001b[0m\n\u001b[1;32m    328\u001b[0m         \u001b[0;31m# Get outputs.\u001b[0m\u001b[0;34m\u001b[0m\u001b[0;34m\u001b[0m\u001b[0;34m\u001b[0m\u001b[0m\n\u001b[0;32m--> 329\u001b[0;31m         \u001b[0mbatch_outs\u001b[0m \u001b[0;34m=\u001b[0m \u001b[0mf\u001b[0m\u001b[0;34m(\u001b[0m\u001b[0mins_batch\u001b[0m\u001b[0;34m)\u001b[0m\u001b[0;34m\u001b[0m\u001b[0;34m\u001b[0m\u001b[0m\n\u001b[0m\u001b[1;32m    330\u001b[0m         \u001b[0;32mif\u001b[0m \u001b[0;32mnot\u001b[0m \u001b[0misinstance\u001b[0m\u001b[0;34m(\u001b[0m\u001b[0mbatch_outs\u001b[0m\u001b[0;34m,\u001b[0m \u001b[0mlist\u001b[0m\u001b[0;34m)\u001b[0m\u001b[0;34m:\u001b[0m\u001b[0;34m\u001b[0m\u001b[0;34m\u001b[0m\u001b[0m\n\u001b[1;32m    331\u001b[0m           \u001b[0mbatch_outs\u001b[0m \u001b[0;34m=\u001b[0m \u001b[0;34m[\u001b[0m\u001b[0mbatch_outs\u001b[0m\u001b[0;34m]\u001b[0m\u001b[0;34m\u001b[0m\u001b[0;34m\u001b[0m\u001b[0m\n",
            "\u001b[0;32m/usr/local/lib/python3.6/dist-packages/tensorflow/python/keras/backend.py\u001b[0m in \u001b[0;36m__call__\u001b[0;34m(self, inputs)\u001b[0m\n\u001b[1;32m   3074\u001b[0m \u001b[0;34m\u001b[0m\u001b[0m\n\u001b[1;32m   3075\u001b[0m     fetched = self._callable_fn(*array_vals,\n\u001b[0;32m-> 3076\u001b[0;31m                                 run_metadata=self.run_metadata)\n\u001b[0m\u001b[1;32m   3077\u001b[0m     \u001b[0mself\u001b[0m\u001b[0;34m.\u001b[0m\u001b[0m_call_fetch_callbacks\u001b[0m\u001b[0;34m(\u001b[0m\u001b[0mfetched\u001b[0m\u001b[0;34m[\u001b[0m\u001b[0;34m-\u001b[0m\u001b[0mlen\u001b[0m\u001b[0;34m(\u001b[0m\u001b[0mself\u001b[0m\u001b[0;34m.\u001b[0m\u001b[0m_fetches\u001b[0m\u001b[0;34m)\u001b[0m\u001b[0;34m:\u001b[0m\u001b[0;34m]\u001b[0m\u001b[0;34m)\u001b[0m\u001b[0;34m\u001b[0m\u001b[0;34m\u001b[0m\u001b[0m\n\u001b[1;32m   3078\u001b[0m     return nest.pack_sequence_as(self._outputs_structure,\n",
            "\u001b[0;32m/usr/local/lib/python3.6/dist-packages/tensorflow/python/client/session.py\u001b[0m in \u001b[0;36m__call__\u001b[0;34m(self, *args, **kwargs)\u001b[0m\n\u001b[1;32m   1437\u001b[0m           ret = tf_session.TF_SessionRunCallable(\n\u001b[1;32m   1438\u001b[0m               \u001b[0mself\u001b[0m\u001b[0;34m.\u001b[0m\u001b[0m_session\u001b[0m\u001b[0;34m.\u001b[0m\u001b[0m_session\u001b[0m\u001b[0;34m,\u001b[0m \u001b[0mself\u001b[0m\u001b[0;34m.\u001b[0m\u001b[0m_handle\u001b[0m\u001b[0;34m,\u001b[0m \u001b[0margs\u001b[0m\u001b[0;34m,\u001b[0m \u001b[0mstatus\u001b[0m\u001b[0;34m,\u001b[0m\u001b[0;34m\u001b[0m\u001b[0;34m\u001b[0m\u001b[0m\n\u001b[0;32m-> 1439\u001b[0;31m               run_metadata_ptr)\n\u001b[0m\u001b[1;32m   1440\u001b[0m         \u001b[0;32mif\u001b[0m \u001b[0mrun_metadata\u001b[0m\u001b[0;34m:\u001b[0m\u001b[0;34m\u001b[0m\u001b[0;34m\u001b[0m\u001b[0m\n\u001b[1;32m   1441\u001b[0m           \u001b[0mproto_data\u001b[0m \u001b[0;34m=\u001b[0m \u001b[0mtf_session\u001b[0m\u001b[0;34m.\u001b[0m\u001b[0mTF_GetBuffer\u001b[0m\u001b[0;34m(\u001b[0m\u001b[0mrun_metadata_ptr\u001b[0m\u001b[0;34m)\u001b[0m\u001b[0;34m\u001b[0m\u001b[0;34m\u001b[0m\u001b[0m\n",
            "\u001b[0;31mKeyboardInterrupt\u001b[0m: "
          ]
        }
      ]
    },
    {
      "cell_type": "markdown",
      "metadata": {
        "id": "g6k_gnv5BqdT",
        "colab_type": "text"
      },
      "source": [
        "### Model evaluation"
      ]
    },
    {
      "cell_type": "code",
      "metadata": {
        "id": "WtcHLtFLkV3N",
        "colab_type": "code",
        "colab": {}
      },
      "source": [
        "X_Test = X_test*255"
      ],
      "execution_count": 0,
      "outputs": []
    },
    {
      "cell_type": "code",
      "metadata": {
        "id": "l0nHalVeBtAy",
        "colab_type": "code",
        "outputId": "3f9e7a27-0220-4fd5-b453-5444c9fc9a70",
        "colab": {
          "base_uri": "https://localhost:8080/",
          "height": 34
        }
      },
      "source": [
        "test_loss, test_accuracy = model.evaluate(X_test, y_test)"
      ],
      "execution_count": 16,
      "outputs": [
        {
          "output_type": "stream",
          "text": [
            "10000/10000 [==============================] - 1s 104us/sample - loss: 2.5932 - sparse_categorical_accuracy: 0.7304\n"
          ],
          "name": "stdout"
        }
      ]
    },
    {
      "cell_type": "code",
      "metadata": {
        "id": "u9q7jsTuBuxT",
        "colab_type": "code",
        "outputId": "26b22e9d-0597-4dc4-814d-1c0baf16f28b",
        "colab": {
          "base_uri": "https://localhost:8080/",
          "height": 34
        }
      },
      "source": [
        "print(\"Test accuracy is {}\".format(test_accuracy))"
      ],
      "execution_count": 17,
      "outputs": [
        {
          "output_type": "stream",
          "text": [
            "Test accuracy is 0.730400025844574\n"
          ],
          "name": "stdout"
        }
      ]
    },
    {
      "cell_type": "markdown",
      "metadata": {
        "id": "945L3-2rDjFe",
        "colab_type": "text"
      },
      "source": [
        "## Stage 5: Saving the model for production"
      ]
    },
    {
      "cell_type": "markdown",
      "metadata": {
        "id": "5a5uCiniDmgY",
        "colab_type": "text"
      },
      "source": [
        "### Creating the directory for the model"
      ]
    },
    {
      "cell_type": "code",
      "metadata": {
        "id": "YonroqRrC3sM",
        "colab_type": "code",
        "colab": {}
      },
      "source": [
        "MODEL_DIR = \"model/\"\n",
        "version = 1"
      ],
      "execution_count": 0,
      "outputs": []
    },
    {
      "cell_type": "code",
      "metadata": {
        "id": "07NyMUGYEMNF",
        "colab_type": "code",
        "outputId": "b20af0c4-27e5-49d0-fa6a-c0e259d9be44",
        "colab": {
          "base_uri": "https://localhost:8080/",
          "height": 34
        }
      },
      "source": [
        "export_path = os.path.join(MODEL_DIR, str(version))\n",
        "export_path"
      ],
      "execution_count": 19,
      "outputs": [
        {
          "output_type": "execute_result",
          "data": {
            "text/plain": [
              "'model/1'"
            ]
          },
          "metadata": {
            "tags": []
          },
          "execution_count": 19
        }
      ]
    },
    {
      "cell_type": "code",
      "metadata": {
        "id": "jln7YavbEczA",
        "colab_type": "code",
        "colab": {}
      },
      "source": [
        "if os.path.isdir(export_path):\n",
        "    !rm -r {export_path}"
      ],
      "execution_count": 0,
      "outputs": []
    },
    {
      "cell_type": "markdown",
      "metadata": {
        "id": "0RA2HuIUDrDQ",
        "colab_type": "text"
      },
      "source": [
        "### Saving the model for the TensorFlow Serving"
      ]
    },
    {
      "cell_type": "code",
      "metadata": {
        "id": "19DG8IkIDv4S",
        "colab_type": "code",
        "outputId": "86b7e63d-e8d2-4c39-bb33-273b3306e6b7",
        "colab": {
          "base_uri": "https://localhost:8080/",
          "height": 190
        }
      },
      "source": [
        "tf.saved_model.simple_save(tf.keras.backend.get_session(), export_dir=export_path, inputs={\"input_image\":model.input}, outputs={t.name:t for t in model.outputs})"
      ],
      "execution_count": 21,
      "outputs": [
        {
          "output_type": "stream",
          "text": [
            "WARNING:tensorflow:From <ipython-input-21-f70a5d463003>:1: simple_save (from tensorflow.python.saved_model.simple_save) is deprecated and will be removed in a future version.\n",
            "Instructions for updating:\n",
            "This function will only be available through the v1 compatibility library as tf.compat.v1.saved_model.simple_save.\n",
            "WARNING:tensorflow:From /usr/local/lib/python3.6/dist-packages/tensorflow/python/saved_model/signature_def_utils_impl.py:205: build_tensor_info (from tensorflow.python.saved_model.utils_impl) is deprecated and will be removed in a future version.\n",
            "Instructions for updating:\n",
            "This function will only be available through the v1 compatibility library as tf.compat.v1.saved_model.utils.build_tensor_info or tf.compat.v1.saved_model.build_tensor_info.\n",
            "INFO:tensorflow:Assets added to graph.\n",
            "INFO:tensorflow:No assets to write.\n",
            "INFO:tensorflow:SavedModel written to: model/1/saved_model.pb\n"
          ],
          "name": "stdout"
        }
      ]
    },
    {
      "cell_type": "markdown",
      "metadata": {
        "id": "1o8BlXcBFvIm",
        "colab_type": "text"
      },
      "source": [
        "## Stage 6: Setting up the production environment"
      ]
    },
    {
      "cell_type": "markdown",
      "metadata": {
        "id": "rSFWzxOrF0ft",
        "colab_type": "text"
      },
      "source": [
        "### Exporting the MODEL_DIR to environment variables"
      ]
    },
    {
      "cell_type": "code",
      "metadata": {
        "id": "BS6wsQthLX_i",
        "colab_type": "code",
        "colab": {}
      },
      "source": [
        "os.environ['MODEL_DIR'] = os.path.abspath(MODEL_DIR)"
      ],
      "execution_count": 0,
      "outputs": []
    },
    {
      "cell_type": "code",
      "metadata": {
        "id": "NoH1GE0foz0r",
        "colab_type": "code",
        "colab": {
          "base_uri": "https://localhost:8080/",
          "height": 34
        },
        "outputId": "65246923-c1d1-4855-c7bb-76c5be27a2d6"
      },
      "source": [
        "os.environ['MODEL_DIR']"
      ],
      "execution_count": 23,
      "outputs": [
        {
          "output_type": "execute_result",
          "data": {
            "text/plain": [
              "'/content/model'"
            ]
          },
          "metadata": {
            "tags": []
          },
          "execution_count": 23
        }
      ]
    },
    {
      "cell_type": "markdown",
      "metadata": {
        "id": "8TXejqj5F5oj",
        "colab_type": "text"
      },
      "source": [
        "### Running the TensorFlow Serving REST API"
      ]
    },
    {
      "cell_type": "code",
      "metadata": {
        "id": "oWjUhJA4KGWy",
        "colab_type": "code",
        "outputId": "13ffd63f-d501-4e7a-c080-37610e864923",
        "colab": {
          "base_uri": "https://localhost:8080/",
          "height": 34
        }
      },
      "source": [
        "%%bash --bg\n",
        "nohup tensorflow_model_server --rest_api_port=8501 --model_name=cifar10 --model_base_path=\"${MODEL_DIR}\" >server.log 2>&1"
      ],
      "execution_count": 24,
      "outputs": [
        {
          "output_type": "stream",
          "text": [
            "Starting job # 0 in a separate thread.\n"
          ],
          "name": "stdout"
        }
      ]
    },
    {
      "cell_type": "code",
      "metadata": {
        "id": "iPa7fGZ5NHL5",
        "colab_type": "code",
        "outputId": "65b93880-5b1d-4626-e478-53202c96106c",
        "colab": {
          "base_uri": "https://localhost:8080/",
          "height": 207
        }
      },
      "source": [
        "!tail server.log"
      ],
      "execution_count": 25,
      "outputs": [
        {
          "output_type": "stream",
          "text": [
            "2020-01-03 18:20:47.517396: I external/org_tensorflow/tensorflow/cc/saved_model/reader.cc:54] Reading meta graph with tags { serve }\n",
            "2020-01-03 18:20:47.520451: I external/org_tensorflow/tensorflow/core/platform/cpu_feature_guard.cc:142] Your CPU supports instructions that this TensorFlow binary was not compiled to use: AVX2 FMA\n",
            "2020-01-03 18:20:47.539616: I external/org_tensorflow/tensorflow/cc/saved_model/loader.cc:202] Restoring SavedModel bundle.\n",
            "2020-01-03 18:20:47.580355: I external/org_tensorflow/tensorflow/cc/saved_model/loader.cc:311] SavedModel load for tags { serve }; Status: success. Took 66519 microseconds.\n",
            "2020-01-03 18:20:47.581437: I tensorflow_serving/servables/tensorflow/saved_model_warmup.cc:105] No warmup data file found at /content/model/1/assets.extra/tf_serving_warmup_requests\n",
            "2020-01-03 18:20:47.581521: I tensorflow_serving/core/loader_harness.cc:87] Successfully loaded servable version {name: cifar10 version: 1}\n",
            "2020-01-03 18:20:47.582769: I tensorflow_serving/model_servers/server.cc:353] Running gRPC ModelServer at 0.0.0.0:8500 ...\n",
            "[warn] getaddrinfo: address family for nodename not supported\n",
            "2020-01-03 18:20:47.583386: I tensorflow_serving/model_servers/server.cc:373] Exporting HTTP/REST API at:localhost:8501 ...\n",
            "[evhttp_server.cc : 238] NET_LOG: Entering the event loop ...\n"
          ],
          "name": "stdout"
        }
      ]
    },
    {
      "cell_type": "markdown",
      "metadata": {
        "id": "ICEqKpKUOC2F",
        "colab_type": "text"
      },
      "source": [
        "## Stage 7: Creating the first POST request"
      ]
    },
    {
      "cell_type": "code",
      "metadata": {
        "id": "AvjZyyPIN3Zq",
        "colab_type": "code",
        "outputId": "d4ab6fc0-e553-486f-d7da-cdbdcb4cdc41",
        "colab": {
          "base_uri": "https://localhost:8080/",
          "height": 34
        }
      },
      "source": [
        "random_image = np.random.randint(0, len(X_test))\n",
        "random_image"
      ],
      "execution_count": 39,
      "outputs": [
        {
          "output_type": "execute_result",
          "data": {
            "text/plain": [
              "4023"
            ]
          },
          "metadata": {
            "tags": []
          },
          "execution_count": 39
        }
      ]
    },
    {
      "cell_type": "markdown",
      "metadata": {
        "id": "tqOfIBMNOK8p",
        "colab_type": "text"
      },
      "source": [
        "### Creating the JSON data object"
      ]
    },
    {
      "cell_type": "code",
      "metadata": {
        "id": "nB57JR6wONOI",
        "colab_type": "code",
        "colab": {}
      },
      "source": [
        "data = json.dumps({\"signature_name\":\"serving_default\", \"instances\":[X_test[random_image].tolist()]})"
      ],
      "execution_count": 0,
      "outputs": []
    },
    {
      "cell_type": "code",
      "metadata": {
        "id": "ez6JF3yIPdYZ",
        "colab_type": "code",
        "outputId": "fe533255-0ba2-4b26-d25d-ae1dcfb9f5cf",
        "colab": {
          "base_uri": "https://localhost:8080/",
          "height": 54
        }
      },
      "source": [
        "data"
      ],
      "execution_count": 28,
      "outputs": [
        {
          "output_type": "execute_result",
          "data": {
            "text/plain": [
              "'{\"signature_name\": \"serving_default\", \"instances\": [[[[0.07058823529411765, 0.054901960784313725, 0.07450980392156863], [0.09411764705882353, 0.08235294117647059, 0.09803921568627451], [0.09411764705882353, 0.08627450980392157, 0.09803921568627451], [0.09019607843137255, 0.0784313725490196, 0.0784313725490196], [0.1843137254901961, 0.16862745098039217, 0.14901960784313725], [0.3215686274509804, 0.3137254901960784, 0.3058823529411765], [0.47843137254901963, 0.4549019607843137, 0.43137254901960786], [0.5176470588235295, 0.4980392156862745, 0.47058823529411764], [0.45098039215686275, 0.43529411764705883, 0.396078431372549], [0.6745098039215687, 0.6274509803921569, 0.5254901960784314], [0.8156862745098039, 0.7647058823529411, 0.6352941176470588], [0.8352941176470589, 0.7254901960784313, 0.6313725490196078], [0.8352941176470589, 0.6666666666666666, 0.6196078431372549], [0.8509803921568627, 0.7019607843137254, 0.6549019607843137], [0.8196078431372549, 0.6313725490196078, 0.5764705882352941], [0.8117647058823529, 0.6274509803921569, 0.5607843137254902], [0.8, 0.611764705882353, 0.5294117647058824], [0.792156862745098, 0.6352941176470588, 0.5725490196078431], [0.4117647058823529, 0.34509803921568627, 0.3254901960784314], [0.21568627450980393, 0.17647058823529413, 0.12941176470588237], [0.2627450980392157, 0.20784313725490197, 0.12549019607843137], [0.17254901960784313, 0.13333333333333333, 0.17254901960784313], [0.1411764705882353, 0.11764705882352941, 0.1843137254901961], [0.13333333333333333, 0.10588235294117647, 0.17647058823529413], [0.13725490196078433, 0.11372549019607843, 0.19607843137254902], [0.15294117647058825, 0.12156862745098039, 0.20392156862745098], [0.15294117647058825, 0.12156862745098039, 0.19607843137254902], [0.13725490196078433, 0.10980392156862745, 0.18823529411764706], [0.12941176470588237, 0.11372549019607843, 0.17647058823529413], [0.12941176470588237, 0.10588235294117647, 0.17254901960784313], [0.12941176470588237, 0.10588235294117647, 0.1568627450980392], [0.13333333333333333, 0.10196078431372549, 0.15294117647058825]], [[0.0784313725490196, 0.07058823529411765, 0.08627450980392157], [0.10196078431372549, 0.09411764705882353, 0.10196078431372549], [0.09019607843137255, 0.08235294117647059, 0.08235294117647059], [0.24313725490196078, 0.23137254901960785, 0.20784313725490197], [0.6705882352941176, 0.6509803921568628, 0.615686274509804], [0.9058823529411765, 0.8941176470588236, 0.8666666666666667], [0.9686274509803922, 0.9529411764705882, 0.9294117647058824], [0.9882352941176471, 0.9725490196078431, 0.9450980392156862], [0.9882352941176471, 0.9764705882352941, 0.9529411764705882], [0.9607843137254902, 0.9254901960784314, 0.8980392156862745], [0.8980392156862745, 0.8549019607843137, 0.803921568627451], [0.7725490196078432, 0.6313725490196078, 0.5725490196078431], [0.8392156862745098, 0.6784313725490196, 0.6392156862745098], [0.8666666666666667, 0.7176470588235294, 0.6745098039215687], [0.7607843137254902, 0.5568627450980392, 0.49411764705882355], [0.7058823529411765, 0.4627450980392157, 0.403921568627451], [0.6980392156862745, 0.47058823529411764, 0.396078431372549], [0.8509803921568627, 0.6784313725490196, 0.6235294117647059], [0.8745098039215686, 0.7098039215686275, 0.6588235294117647], [0.44313725490196076, 0.35294117647058826, 0.3176470588235294], [0.2784313725490196, 0.22745098039215686, 0.10196078431372549], [0.2627450980392157, 0.21176470588235294, 0.10980392156862745], [0.2235294117647059, 0.18823529411764706, 0.1568627450980392], [0.22745098039215686, 0.1843137254901961, 0.16862745098039217], [0.12941176470588237, 0.10588235294117647, 0.1803921568627451], [0.13725490196078433, 0.10980392156862745, 0.1607843137254902], [0.16470588235294117, 0.11764705882352941, 0.19215686274509805], [0.2235294117647059, 0.1803921568627451, 0.19215686274509805], [0.1607843137254902, 0.11764705882352941, 0.2], [0.1450980392156863, 0.10588235294117647, 0.19215686274509805], [0.12941176470588237, 0.10588235294117647, 0.16470588235294117], [0.12941176470588237, 0.09411764705882353, 0.14901960784313725]], [[0.09411764705882353, 0.09019607843137255, 0.09803921568627451], [0.09411764705882353, 0.09411764705882353, 0.08627450980392157], [0.2, 0.19607843137254902, 0.17647058823529413], [0.7215686274509804, 0.7058823529411765, 0.6745098039215687], [0.9058823529411765, 0.8666666666666667, 0.8235294117647058], [0.8431372549019608, 0.7803921568627451, 0.7058823529411765], [0.9490196078431372, 0.9176470588235294, 0.8980392156862745], [0.9450980392156862, 0.9254901960784314, 0.8980392156862745], [0.9411764705882353, 0.9215686274509803, 0.8823529411764706], [0.9254901960784314, 0.9058823529411765, 0.8588235294117647], [0.8784313725490196, 0.788235294117647, 0.7490196078431373], [0.788235294117647, 0.6235294117647059, 0.5607843137254902], [0.8431372549019608, 0.7098039215686275, 0.6666666666666666], [0.8745098039215686, 0.7176470588235294, 0.6705882352941176], [0.6823529411764706, 0.48627450980392156, 0.4196078431372549], [0.6235294117647059, 0.39215686274509803, 0.3333333333333333], [0.6627450980392157, 0.41568627450980394, 0.34901960784313724], [0.7803921568627451, 0.5803921568627451, 0.5372549019607843], [0.8901960784313725, 0.7372549019607844, 0.6784313725490196], [0.6627450980392157, 0.5294117647058824, 0.49019607843137253], [0.18823529411764706, 0.15294117647058825, 0.12156862745098039], [0.23921568627450981, 0.18823529411764706, 0.11764705882352941], [0.28627450980392155, 0.23137254901960785, 0.12156862745098039], [0.35294117647058826, 0.2901960784313726, 0.10588235294117647], [0.23529411764705882, 0.18823529411764706, 0.1607843137254902], [0.15294117647058825, 0.12549019607843137, 0.1843137254901961], [0.12941176470588237, 0.10588235294117647, 0.17254901960784313], [0.20392156862745098, 0.1607843137254902, 0.1411764705882353], [0.2, 0.16470588235294117, 0.17647058823529413], [0.19215686274509805, 0.15294117647058825, 0.1803921568627451], [0.12941176470588237, 0.10588235294117647, 0.16470588235294117], [0.12941176470588237, 0.10196078431372549, 0.15294117647058825]], [[0.09019607843137255, 0.09411764705882353, 0.09019607843137255], [0.20392156862745098, 0.19215686274509805, 0.1803921568627451], [0.6784313725490196, 0.6588235294117647, 0.6352941176470588], [0.9372549019607843, 0.9176470588235294, 0.8862745098039215], [0.8156862745098039, 0.7529411764705882, 0.6862745098039216], [0.6, 0.4823529411764706, 0.33725490196078434], [0.8470588235294118, 0.796078431372549, 0.7450980392156863], [0.9215686274509803, 0.8980392156862745, 0.8666666666666667], [0.9568627450980393, 0.9411764705882353, 0.9176470588235294], [0.9607843137254902, 0.9490196078431372, 0.9254901960784314], [0.8823529411764706, 0.7725490196078432, 0.7333333333333333], [0.8117647058823529, 0.6470588235294118, 0.5843137254901961], [0.8196078431372549, 0.6666666666666666, 0.6235294117647059], [0.8274509803921568, 0.6627450980392157, 0.592156862745098], [0.5647058823529412, 0.3764705882352941, 0.30980392156862746], [0.45098039215686275, 0.28627450980392155, 0.24313725490196078], [0.6980392156862745, 0.5058823529411764, 0.4627450980392157], [0.7647058823529411, 0.6078431372549019, 0.5529411764705883], [0.8980392156862745, 0.788235294117647, 0.7450980392156863], [0.7254901960784313, 0.6039215686274509, 0.5450980392156862], [0.1450980392156863, 0.11372549019607843, 0.1411764705882353], [0.1607843137254902, 0.13333333333333333, 0.14901960784313725], [0.2823529411764706, 0.23137254901960785, 0.12549019607843137], [0.3215686274509804, 0.26666666666666666, 0.09019607843137255], [0.33725490196078434, 0.2901960784313726, 0.10588235294117647], [0.30196078431372547, 0.25098039215686274, 0.1411764705882353], [0.2549019607843137, 0.20784313725490197, 0.16470588235294117], [0.18823529411764706, 0.14901960784313725, 0.17254901960784313], [0.14901960784313725, 0.12156862745098039, 0.17254901960784313], [0.1450980392156863, 0.12549019607843137, 0.14901960784313725], [0.12941176470588237, 0.10588235294117647, 0.16862745098039217], [0.12941176470588237, 0.09803921568627451, 0.14901960784313725]], [[0.12156862745098039, 0.11764705882352941, 0.10980392156862745], [0.6588235294117647, 0.6431372549019608, 0.6196078431372549], [0.9450980392156862, 0.9294117647058824, 0.8980392156862745], [0.8745098039215686, 0.8274509803921568, 0.792156862745098], [0.6784313725490196, 0.5725490196078431, 0.42745098039215684], [0.5882352941176471, 0.49019607843137253, 0.35294117647058826], [0.8, 0.7568627450980392, 0.7058823529411765], [0.9411764705882353, 0.9450980392156862, 0.9137254901960784], [0.9647058823529412, 0.9529411764705882, 0.9254901960784314], [0.9294117647058824, 0.9019607843137255, 0.8784313725490196], [0.8705882352941177, 0.7411764705882353, 0.6784313725490196], [0.7725490196078432, 0.5843137254901961, 0.5098039215686274], [0.7058823529411765, 0.5137254901960784, 0.44313725490196076], [0.7764705882352941, 0.592156862745098, 0.5215686274509804], [0.5137254901960784, 0.3686274509803922, 0.30196078431372547], [0.6980392156862745, 0.6627450980392157, 0.6352941176470588], [0.9411764705882353, 0.9215686274509803, 0.8980392156862745], [0.9411764705882353, 0.9333333333333333, 0.9176470588235294], [0.9490196078431372, 0.9450980392156862, 0.9294117647058824], [0.9137254901960784, 0.8745098039215686, 0.8431372549019608], [0.5686274509803921, 0.5098039215686274, 0.4745098039215686], [0.24313725490196078, 0.20392156862745098, 0.19215686274509805], [0.17254901960784313, 0.1411764705882353, 0.1450980392156863], [0.22745098039215686, 0.1803921568627451, 0.13333333333333333], [0.2901960784313726, 0.23921568627450981, 0.12549019607843137], [0.34901960784313724, 0.2901960784313726, 0.10196078431372549], [0.33725490196078434, 0.27450980392156865, 0.11372549019607843], [0.30196078431372547, 0.2549019607843137, 0.1411764705882353], [0.1568627450980392, 0.12156862745098039, 0.18823529411764706], [0.1411764705882353, 0.10588235294117647, 0.17254901960784313], [0.12549019607843137, 0.10196078431372549, 0.16470588235294117], [0.12156862745098039, 0.09411764705882353, 0.1568627450980392]], [[0.4, 0.3843137254901961, 0.3686274509803922], [0.9058823529411765, 0.8862745098039215, 0.8627450980392157], [0.9333333333333333, 0.9019607843137255, 0.8862745098039215], [0.8235294117647058, 0.7411764705882353, 0.6666666666666666], [0.5450980392156862, 0.42745098039215684, 0.2549019607843137], [0.596078431372549, 0.5176470588235295, 0.403921568627451], [0.8392156862745098, 0.788235294117647, 0.7647058823529411], [0.9215686274509803, 0.8862745098039215, 0.8666666666666667], [0.9176470588235294, 0.8980392156862745, 0.8784313725490196], [0.8784313725490196, 0.8156862745098039, 0.7725490196078432], [0.8313725490196079, 0.6901960784313725, 0.6274509803921569], [0.6901960784313725, 0.5058823529411764, 0.4470588235294118], [0.5098039215686274, 0.32941176470588235, 0.2627450980392157], [0.6784313725490196, 0.49411764705882355, 0.4235294117647059], [0.7019607843137254, 0.5411764705882353, 0.403921568627451], [0.9137254901960784, 0.8549019607843137, 0.7764705882352941], [0.9686274509803922, 0.9411764705882353, 0.9215686274509803], [0.8862745098039215, 0.8274509803921568, 0.7215686274509804], [0.8470588235294118, 0.7568627450980392, 0.6078431372549019], [0.8235294117647058, 0.7294117647058823, 0.596078431372549], [0.7450980392156863, 0.611764705882353, 0.4235294117647059], [0.5607843137254902, 0.4549019607843137, 0.2823529411764706], [0.23529411764705882, 0.19607843137254902, 0.18823529411764706], [0.1450980392156863, 0.12941176470588237, 0.1843137254901961], [0.16862745098039217, 0.12941176470588237, 0.16862745098039217], [0.21568627450980393, 0.17254901960784313, 0.16470588235294117], [0.25098039215686274, 0.20392156862745098, 0.14901960784313725], [0.20392156862745098, 0.16470588235294117, 0.1568627450980392], [0.1450980392156863, 0.12156862745098039, 0.1803921568627451], [0.14901960784313725, 0.10980392156862745, 0.1803921568627451], [0.12941176470588237, 0.10980392156862745, 0.17647058823529413], [0.23137254901960785, 0.19607843137254902, 0.2196078431372549]], [[0.7215686274509804, 0.6980392156862745, 0.6862745098039216], [0.9333333333333333, 0.9137254901960784, 0.8901960784313725], [0.8941176470588236, 0.8470588235294118, 0.8117647058823529], [0.6196078431372549, 0.5098039215686274, 0.34509803921568627], [0.5372549019607843, 0.43529411764705883, 0.2980392156862745], [0.5764705882352941, 0.4588235294117647, 0.3215686274509804], [0.6431372549019608, 0.5372549019607843, 0.3843137254901961], [0.6705882352941176, 0.5725490196078431, 0.4549019607843137], [0.8745098039215686, 0.8431372549019608, 0.792156862745098], [0.7490196078431373, 0.6431372549019608, 0.5647058823529412], [0.6549019607843137, 0.4823529411764706, 0.4235294117647059], [0.7372549019607844, 0.5568627450980392, 0.4980392156862745], [0.43137254901960786, 0.2784313725490196, 0.2], [0.5450980392156862, 0.38823529411764707, 0.26666666666666666], [0.5568627450980392, 0.4, 0.16862745098039217], [0.796078431372549, 0.6862745098039216, 0.5529411764705883], [0.8823529411764706, 0.8392156862745098, 0.7725490196078432], [0.6, 0.44313725490196076, 0.21176470588235294], [0.5607843137254902, 0.39215686274509803, 0.12941176470588237], [0.5803921568627451, 0.43137254901960786, 0.20784313725490197], [0.5725490196078431, 0.4235294117647059, 0.2196078431372549], [0.5764705882352941, 0.42745098039215684, 0.20784313725490197], [0.5215686274509804, 0.4117647058823529, 0.25882352941176473], [0.24313725490196078, 0.2, 0.20392156862745098], [0.13333333333333333, 0.10196078431372549, 0.16862745098039217], [0.13725490196078433, 0.11372549019607843, 0.1843137254901961], [0.15294117647058825, 0.12156862745098039, 0.17647058823529413], [0.1607843137254902, 0.12549019607843137, 0.19215686274509805], [0.1411764705882353, 0.12156862745098039, 0.17254901960784313], [0.13725490196078433, 0.11372549019607843, 0.16470588235294117], [0.12549019607843137, 0.10196078431372549, 0.1568627450980392], [0.4, 0.34901960784313724, 0.32941176470588235]], [[0.7803921568627451, 0.7490196078431373, 0.7176470588235294], [0.8941176470588236, 0.8705882352941177, 0.8352941176470589], [0.8352941176470589, 0.7686274509803922, 0.6980392156862745], [0.5215686274509804, 0.396078431372549, 0.20784313725490197], [0.5803921568627451, 0.49019607843137253, 0.3686274509803922], [0.5411764705882353, 0.4117647058823529, 0.23529411764705882], [0.49411764705882355, 0.3568627450980392, 0.1450980392156863], [0.6, 0.4823529411764706, 0.3411764705882353], [0.7058823529411765, 0.6470588235294118, 0.5529411764705883], [0.592156862745098, 0.47058823529411764, 0.3607843137254902], [0.4745098039215686, 0.3254901960784314, 0.25098039215686274], [0.7333333333333333, 0.5529411764705883, 0.4823529411764706], [0.5529411764705883, 0.39215686274509803, 0.2980392156862745], [0.49019607843137253, 0.37254901960784315, 0.21176470588235294], [0.5450980392156862, 0.396078431372549, 0.14901960784313725], [0.796078431372549, 0.7215686274509804, 0.592156862745098], [0.788235294117647, 0.7137254901960784, 0.592156862745098], [0.5529411764705883, 0.4117647058823529, 0.18823529411764706], [0.5058823529411764, 0.3843137254901961, 0.19215686274509805], [0.5137254901960784, 0.3843137254901961, 0.1843137254901961], [0.5215686274509804, 0.38823529411764707, 0.19607843137254902], [0.5176470588235295, 0.3843137254901961, 0.18823529411764706], [0.5450980392156862, 0.4117647058823529, 0.1803921568627451], [0.4666666666666667, 0.3568627450980392, 0.20784313725490197], [0.1607843137254902, 0.12156862745098039, 0.1568627450980392], [0.1450980392156863, 0.11764705882352941, 0.17254901960784313], [0.15294117647058825, 0.11764705882352941, 0.1803921568627451], [0.16470588235294117, 0.12549019607843137, 0.18823529411764706], [0.1450980392156863, 0.11764705882352941, 0.1803921568627451], [0.1411764705882353, 0.11372549019607843, 0.16470588235294117], [0.12549019607843137, 0.10588235294117647, 0.16470588235294117], [0.4588235294117647, 0.39215686274509803, 0.32941176470588235]], [[0.7725490196078432, 0.7411764705882353, 0.7019607843137254], [0.8156862745098039, 0.7764705882352941, 0.7490196078431373], [0.7529411764705882, 0.6784313725490196, 0.592156862745098], [0.4549019607843137, 0.3411764705882353, 0.18823529411764706], [0.5686274509803921, 0.47843137254901963, 0.3607843137254902], [0.4980392156862745, 0.3803921568627451, 0.19215686274509805], [0.4823529411764706, 0.34901960784313724, 0.16862745098039217], [0.5764705882352941, 0.4470588235294118, 0.2823529411764706], [0.5294117647058824, 0.4117647058823529, 0.2823529411764706], [0.6196078431372549, 0.4745098039215686, 0.40784313725490196], [0.4235294117647059, 0.2980392156862745, 0.2235294117647059], [0.5686274509803921, 0.40784313725490196, 0.3215686274509804], [0.6274509803921569, 0.4588235294117647, 0.3686274509803922], [0.3764705882352941, 0.3215686274509804, 0.24313725490196078], [0.7019607843137254, 0.6039215686274509, 0.47843137254901963], [0.9137254901960784, 0.8784313725490196, 0.8196078431372549], [0.788235294117647, 0.7137254901960784, 0.592156862745098], [0.4549019607843137, 0.34901960784313724, 0.21568627450980393], [0.32941176470588235, 0.2784313725490196, 0.24313725490196078], [0.41568627450980394, 0.32941176470588235, 0.19215686274509805], [0.5568627450980392, 0.40784313725490196, 0.21176470588235294], [0.5137254901960784, 0.3803921568627451, 0.17647058823529413], [0.5019607843137255, 0.3764705882352941, 0.18823529411764706], [0.5764705882352941, 0.43529411764705883, 0.2196078431372549], [0.3843137254901961, 0.3176470588235294, 0.21568627450980393], [0.13333333333333333, 0.10588235294117647, 0.15294117647058825], [0.12941176470588237, 0.10980392156862745, 0.16470588235294117], [0.14901960784313725, 0.12941176470588237, 0.1607843137254902], [0.1411764705882353, 0.11764705882352941, 0.1607843137254902], [0.1411764705882353, 0.11372549019607843, 0.17254901960784313], [0.12941176470588237, 0.10980392156862745, 0.1607843137254902], [0.49411764705882355, 0.4235294117647059, 0.33725490196078434]], [[0.8274509803921568, 0.792156862745098, 0.7529411764705882], [0.8235294117647058, 0.7843137254901961, 0.7529411764705882], [0.615686274509804, 0.5333333333333333, 0.403921568627451], [0.4980392156862745, 0.396078431372549, 0.23921568627450981], [0.6039215686274509, 0.5215686274509804, 0.38823529411764707], [0.5254901960784314, 0.403921568627451, 0.22745098039215686], [0.4823529411764706, 0.3607843137254902, 0.20392156862745098], [0.5058823529411764, 0.38823529411764707, 0.21568627450980393], [0.47058823529411764, 0.34509803921568627, 0.19215686274509805], [0.4196078431372549, 0.29411764705882354, 0.2196078431372549], [0.403921568627451, 0.2901960784313726, 0.2196078431372549], [0.4470588235294118, 0.3137254901960784, 0.2196078431372549], [0.4666666666666667, 0.3333333333333333, 0.26666666666666666], [0.3686274509803922, 0.3176470588235294, 0.27450980392156865], [0.5215686274509804, 0.49019607843137253, 0.4470588235294118], [0.9058823529411765, 0.8784313725490196, 0.8431372549019608], [0.8117647058823529, 0.7529411764705882, 0.6745098039215687], [0.39215686274509803, 0.3137254901960784, 0.2627450980392157], [0.2, 0.20392156862745098, 0.1843137254901961], [0.24705882352941178, 0.21176470588235294, 0.16862745098039217], [0.47058823529411764, 0.3411764705882353, 0.1450980392156863], [0.5098039215686274, 0.3764705882352941, 0.17647058823529413], [0.4745098039215686, 0.35294117647058826, 0.1843137254901961], [0.5294117647058824, 0.403921568627451, 0.19215686274509805], [0.6196078431372549, 0.4823529411764706, 0.2901960784313726], [0.3058823529411765, 0.24705882352941178, 0.20784313725490197], [0.09803921568627451, 0.08235294117647059, 0.12941176470588237], [0.12549019607843137, 0.10196078431372549, 0.1411764705882353], [0.13333333333333333, 0.10980392156862745, 0.1607843137254902], [0.13725490196078433, 0.11372549019607843, 0.17647058823529413], [0.12549019607843137, 0.10588235294117647, 0.14901960784313725], [0.5215686274509804, 0.4666666666666667, 0.3764705882352941]], [[0.7647058823529411, 0.7254901960784313, 0.6862745098039216], [0.8156862745098039, 0.788235294117647, 0.7529411764705882], [0.5803921568627451, 0.47843137254901963, 0.3411764705882353], [0.6078431372549019, 0.49411764705882355, 0.3607843137254902], [0.596078431372549, 0.4980392156862745, 0.3607843137254902], [0.4823529411764706, 0.3568627450980392, 0.20784313725490197], [0.44313725490196076, 0.3333333333333333, 0.1803921568627451], [0.4980392156862745, 0.3803921568627451, 0.22745098039215686], [0.43529411764705883, 0.3215686274509804, 0.1803921568627451], [0.44313725490196076, 0.32941176470588235, 0.23921568627450981], [0.403921568627451, 0.28627450980392155, 0.21176470588235294], [0.4196078431372549, 0.30196078431372547, 0.22745098039215686], [0.4196078431372549, 0.3568627450980392, 0.3058823529411765], [0.1843137254901961, 0.17254901960784313, 0.16470588235294117], [0.2980392156862745, 0.25882352941176473, 0.2196078431372549], [0.788235294117647, 0.7490196078431373, 0.7058823529411765], [0.8784313725490196, 0.8392156862745098, 0.788235294117647], [0.44313725490196076, 0.3568627450980392, 0.27450980392156865], [0.1843137254901961, 0.14901960784313725, 0.12941176470588237], [0.3254901960784314, 0.27450980392156865, 0.2627450980392157], [0.35294117647058826, 0.2549019607843137, 0.1411764705882353], [0.47843137254901963, 0.3568627450980392, 0.16862745098039217], [0.4588235294117647, 0.33725490196078434, 0.1568627450980392], [0.49411764705882355, 0.37254901960784315, 0.1843137254901961], [0.611764705882353, 0.4745098039215686, 0.2784313725490196], [0.6039215686274509, 0.49019607843137253, 0.3058823529411765], [0.23921568627450981, 0.18823529411764706, 0.14901960784313725], [0.10980392156862745, 0.08235294117647059, 0.12156862745098039], [0.12549019607843137, 0.10196078431372549, 0.1450980392156863], [0.13725490196078433, 0.10588235294117647, 0.1607843137254902], [0.1450980392156863, 0.12549019607843137, 0.16862745098039217], [0.7019607843137254, 0.6588235294117647, 0.5882352941176471]], [[0.7137254901960784, 0.6627450980392157, 0.611764705882353], [0.7764705882352941, 0.7411764705882353, 0.6941176470588235], [0.5450980392156862, 0.4470588235294118, 0.2980392156862745], [0.5607843137254902, 0.4666666666666667, 0.33725490196078434], [0.5372549019607843, 0.4470588235294118, 0.3058823529411765], [0.43137254901960786, 0.3176470588235294, 0.1607843137254902], [0.4666666666666667, 0.3568627450980392, 0.19607843137254902], [0.47058823529411764, 0.35294117647058826, 0.19607843137254902], [0.44313725490196076, 0.32941176470588235, 0.18823529411764706], [0.5058823529411764, 0.3764705882352941, 0.29411764705882354], [0.3764705882352941, 0.25098039215686274, 0.16862745098039217], [0.47843137254901963, 0.396078431372549, 0.28627450980392155], [0.5882352941176471, 0.5529411764705883, 0.5137254901960784], [0.2627450980392157, 0.24313725490196078, 0.2], [0.6784313725490196, 0.6313725490196078, 0.5843137254901961], [0.8823529411764706, 0.8509803921568627, 0.8117647058823529], [0.9098039215686274, 0.8784313725490196, 0.8392156862745098], [0.6666666666666666, 0.5725490196078431, 0.47058823529411764], [0.396078431372549, 0.30196078431372547, 0.2], [0.403921568627451, 0.3137254901960784, 0.20392156862745098], [0.4196078431372549, 0.3254901960784314, 0.1803921568627451], [0.39215686274509803, 0.29411764705882354, 0.13333333333333333], [0.3686274509803922, 0.27058823529411763, 0.11372549019607843], [0.4627450980392157, 0.34901960784313724, 0.1568627450980392], [0.6, 0.4823529411764706, 0.2823529411764706], [0.6470588235294118, 0.5176470588235295, 0.3137254901960784], [0.5333333333333333, 0.4235294117647059, 0.24313725490196078], [0.2, 0.14901960784313725, 0.10980392156862745], [0.10980392156862745, 0.09019607843137255, 0.12941176470588237], [0.10588235294117647, 0.08627450980392157, 0.12156862745098039], [0.5019607843137255, 0.4666666666666667, 0.44313725490196076], [0.8627450980392157, 0.807843137254902, 0.6980392156862745]], [[0.7411764705882353, 0.7019607843137254, 0.6666666666666666], [0.7333333333333333, 0.6823529411764706, 0.6274509803921569], [0.5137254901960784, 0.40784313725490196, 0.25098039215686274], [0.5647058823529412, 0.47843137254901963, 0.3411764705882353], [0.5215686274509804, 0.42745098039215684, 0.2823529411764706], [0.4588235294117647, 0.34509803921568627, 0.1803921568627451], [0.4549019607843137, 0.33725490196078434, 0.17254901960784313], [0.4627450980392157, 0.34509803921568627, 0.19215686274509805], [0.4588235294117647, 0.3411764705882353, 0.20392156862745098], [0.43529411764705883, 0.3058823529411765, 0.23137254901960785], [0.49411764705882355, 0.3764705882352941, 0.27058823529411763], [0.7490196078431373, 0.6784313725490196, 0.5843137254901961], [0.7372549019607844, 0.6862745098039216, 0.6549019607843137], [0.5372549019607843, 0.4666666666666667, 0.42745098039215684], [0.7607843137254902, 0.6666666666666666, 0.611764705882353], [0.8509803921568627, 0.796078431372549, 0.7490196078431373], [0.8784313725490196, 0.8549019607843137, 0.8156862745098039], [0.796078431372549, 0.7254901960784313, 0.6509803921568628], [0.4823529411764706, 0.3686274509803922, 0.21568627450980393], [0.4666666666666667, 0.36470588235294116, 0.1803921568627451], [0.4235294117647059, 0.30980392156862746, 0.14901960784313725], [0.42745098039215684, 0.3176470588235294, 0.1607843137254902], [0.2980392156862745, 0.2, 0.07450980392156863], [0.4117647058823529, 0.30980392156862746, 0.1450980392156863], [0.6352941176470588, 0.5137254901960784, 0.3215686274509804], [0.6588235294117647, 0.5254901960784314, 0.3254901960784314], [0.596078431372549, 0.4666666666666667, 0.26666666666666666], [0.42745098039215684, 0.34509803921568627, 0.21176470588235294], [0.09019607843137255, 0.06274509803921569, 0.09019607843137255], [0.4549019607843137, 0.4235294117647059, 0.4], [0.9176470588235294, 0.8784313725490196, 0.7725490196078432], [0.8941176470588236, 0.8352941176470589, 0.7647058823529411]], [[0.7490196078431373, 0.7137254901960784, 0.6823529411764706], [0.6901960784313725, 0.6235294117647059, 0.5529411764705883], [0.5058823529411764, 0.3843137254901961, 0.21568627450980393], [0.6, 0.5058823529411764, 0.37254901960784315], [0.5058823529411764, 0.4117647058823529, 0.27058823529411763], [0.42745098039215684, 0.3176470588235294, 0.1568627450980392], [0.43529411764705883, 0.3215686274509804, 0.1607843137254902], [0.44313725490196076, 0.3333333333333333, 0.17647058823529413], [0.43137254901960786, 0.3215686274509804, 0.16862745098039217], [0.41568627450980394, 0.3058823529411765, 0.19215686274509805], [0.611764705882353, 0.5019607843137255, 0.37254901960784315], [0.7490196078431373, 0.6745098039215687, 0.6], [0.6, 0.5411764705882353, 0.49019607843137253], [0.5294117647058824, 0.45098039215686275, 0.39215686274509803], [0.7137254901960784, 0.6196078431372549, 0.5450980392156862], [0.8235294117647058, 0.7725490196078432, 0.7058823529411765], [0.8627450980392157, 0.8313725490196079, 0.788235294117647], [0.8549019607843137, 0.807843137254902, 0.7450980392156863], [0.5058823529411764, 0.41568627450980394, 0.29411764705882354], [0.3215686274509804, 0.2235294117647059, 0.10980392156862745], [0.4, 0.29411764705882354, 0.13333333333333333], [0.5019607843137255, 0.3803921568627451, 0.1803921568627451], [0.3843137254901961, 0.2823529411764706, 0.12549019607843137], [0.3411764705882353, 0.24313725490196078, 0.10588235294117647], [0.611764705882353, 0.4980392156862745, 0.3176470588235294], [0.7019607843137254, 0.5647058823529412, 0.3686274509803922], [0.6352941176470588, 0.5019607843137255, 0.2980392156862745], [0.5372549019607843, 0.4196078431372549, 0.2196078431372549], [0.27058823529411763, 0.23529411764705882, 0.19607843137254902], [0.8745098039215686, 0.8313725490196079, 0.7450980392156863], [0.9058823529411765, 0.8549019607843137, 0.7529411764705882], [0.8901960784313725, 0.8352941176470589, 0.7372549019607844]], [[0.6705882352941176, 0.615686274509804, 0.5568627450980392], [0.6901960784313725, 0.611764705882353, 0.5176470588235295], [0.6078431372549019, 0.4627450980392157, 0.27450980392156865], [0.615686274509804, 0.5254901960784314, 0.4], [0.5098039215686274, 0.42745098039215684, 0.30196078431372547], [0.4, 0.3058823529411765, 0.14901960784313725], [0.39215686274509803, 0.29411764705882354, 0.13725490196078433], [0.3843137254901961, 0.2901960784313726, 0.1450980392156863], [0.396078431372549, 0.2980392156862745, 0.1607843137254902], [0.37254901960784315, 0.28627450980392155, 0.1568627450980392], [0.6470588235294118, 0.5411764705882353, 0.40784313725490196], [0.611764705882353, 0.5450980392156862, 0.45098039215686275], [0.4117647058823529, 0.34901960784313724, 0.2823529411764706], [0.35294117647058826, 0.28627450980392155, 0.2196078431372549], [0.6235294117647059, 0.5490196078431373, 0.4666666666666667], [0.7647058823529411, 0.7137254901960784, 0.6549019607843137], [0.8117647058823529, 0.7764705882352941, 0.7254901960784313], [0.8235294117647058, 0.7803921568627451, 0.7137254901960784], [0.7058823529411765, 0.6352941176470588, 0.5372549019607843], [0.3607843137254902, 0.27058823529411763, 0.14901960784313725], [0.43529411764705883, 0.32941176470588235, 0.16470588235294117], [0.5058823529411764, 0.3764705882352941, 0.17647058823529413], [0.42745098039215684, 0.3254901960784314, 0.12549019607843137], [0.30980392156862746, 0.22745098039215686, 0.09803921568627451], [0.5137254901960784, 0.41568627450980394, 0.2549019607843137], [0.6784313725490196, 0.5490196078431373, 0.36470588235294116], [0.6705882352941176, 0.5411764705882353, 0.3411764705882353], [0.5333333333333333, 0.4196078431372549, 0.21176470588235294], [0.7176470588235294, 0.6627450980392157, 0.5490196078431373], [0.9215686274509803, 0.8823529411764706, 0.7843137254901961], [0.8941176470588236, 0.8392156862745098, 0.7372549019607844], [0.8588235294117647, 0.8, 0.6862745098039216]], [[0.6745098039215687, 0.615686274509804, 0.5450980392156862], [0.7254901960784313, 0.6274509803921569, 0.5098039215686274], [0.5686274509803921, 0.43137254901960786, 0.24705882352941178], [0.5490196078431373, 0.4588235294117647, 0.34509803921568627], [0.4745098039215686, 0.396078431372549, 0.27058823529411763], [0.36470588235294116, 0.26666666666666666, 0.12549019607843137], [0.35294117647058826, 0.25882352941176473, 0.11764705882352941], [0.3764705882352941, 0.2823529411764706, 0.13725490196078433], [0.3411764705882353, 0.2549019607843137, 0.12941176470588237], [0.4666666666666667, 0.3607843137254902, 0.21176470588235294], [0.5803921568627451, 0.4666666666666667, 0.3176470588235294], [0.5529411764705883, 0.47058823529411764, 0.37254901960784315], [0.49411764705882355, 0.4196078431372549, 0.3411764705882353], [0.48627450980392156, 0.4, 0.3176470588235294], [0.45098039215686275, 0.3686274509803922, 0.28627450980392155], [0.7176470588235294, 0.6549019607843137, 0.5882352941176471], [0.7686274509803922, 0.7294117647058823, 0.6705882352941176], [0.8, 0.7529411764705882, 0.6823529411764706], [0.7529411764705882, 0.6823529411764706, 0.5843137254901961], [0.47058823529411764, 0.37254901960784315, 0.23137254901960785], [0.4627450980392157, 0.34901960784313724, 0.1803921568627451], [0.4745098039215686, 0.34901960784313724, 0.1803921568627451], [0.39215686274509803, 0.2823529411764706, 0.10588235294117647], [0.30196078431372547, 0.2196078431372549, 0.09019607843137255], [0.403921568627451, 0.3137254901960784, 0.16470588235294117], [0.592156862745098, 0.4666666666666667, 0.2784313725490196], [0.6627450980392157, 0.5294117647058824, 0.3058823529411765], [0.6235294117647059, 0.5254901960784314, 0.34901960784313724], [0.9137254901960784, 0.8588235294117647, 0.7529411764705882], [0.9215686274509803, 0.8784313725490196, 0.792156862745098], [0.9137254901960784, 0.8784313725490196, 0.788235294117647], [0.8705882352941177, 0.807843137254902, 0.7019607843137254]], [[0.7450980392156863, 0.6941176470588235, 0.6431372549019608], [0.8, 0.7450980392156863, 0.6941176470588235], [0.5803921568627451, 0.49019607843137253, 0.3686274509803922], [0.5215686274509804, 0.4235294117647059, 0.30980392156862746], [0.4549019607843137, 0.3764705882352941, 0.2549019607843137], [0.3568627450980392, 0.2627450980392157, 0.11372549019607843], [0.36470588235294116, 0.27058823529411763, 0.12156862745098039], [0.3764705882352941, 0.2823529411764706, 0.1411764705882353], [0.36470588235294116, 0.27450980392156865, 0.13333333333333333], [0.5294117647058824, 0.40784313725490196, 0.23137254901960785], [0.5294117647058824, 0.41568627450980394, 0.2627450980392157], [0.5215686274509804, 0.4392156862745098, 0.3333333333333333], [0.45098039215686275, 0.3764705882352941, 0.2980392156862745], [0.5490196078431373, 0.4745098039215686, 0.39215686274509803], [0.43137254901960786, 0.35294117647058826, 0.27058823529411763], [0.5294117647058824, 0.4549019607843137, 0.3686274509803922], [0.7764705882352941, 0.7254901960784313, 0.6549019607843137], [0.8156862745098039, 0.7686274509803922, 0.7019607843137254], [0.6509803921568628, 0.5764705882352941, 0.4745098039215686], [0.42745098039215684, 0.3254901960784314, 0.17647058823529413], [0.3764705882352941, 0.2823529411764706, 0.11372549019607843], [0.403921568627451, 0.3058823529411765, 0.12549019607843137], [0.34509803921568627, 0.24705882352941178, 0.09803921568627451], [0.2784313725490196, 0.19607843137254902, 0.09411764705882353], [0.34901960784313724, 0.26666666666666666, 0.13333333333333333], [0.49019607843137253, 0.3803921568627451, 0.1803921568627451], [0.615686274509804, 0.5019607843137255, 0.2901960784313726], [0.8392156862745098, 0.7607843137254902, 0.615686274509804], [0.9215686274509803, 0.8745098039215686, 0.7843137254901961], [0.9019607843137255, 0.8509803921568627, 0.7490196078431373], [0.9137254901960784, 0.8627450980392157, 0.7686274509803922], [0.9019607843137255, 0.8588235294117647, 0.7725490196078432]], [[0.7568627450980392, 0.7137254901960784, 0.6705882352941176], [0.7725490196078432, 0.7411764705882353, 0.6980392156862745], [0.6078431372549019, 0.5019607843137255, 0.3686274509803922], [0.5529411764705883, 0.4549019607843137, 0.3058823529411765], [0.4196078431372549, 0.35294117647058826, 0.23137254901960785], [0.34509803921568627, 0.2549019607843137, 0.10196078431372549], [0.35294117647058826, 0.25882352941176473, 0.10196078431372549], [0.3254901960784314, 0.23921568627450981, 0.10588235294117647], [0.47058823529411764, 0.3764705882352941, 0.23529411764705882], [0.592156862745098, 0.47058823529411764, 0.2901960784313726], [0.5019607843137255, 0.396078431372549, 0.25098039215686274], [0.44313725490196076, 0.3568627450980392, 0.24705882352941178], [0.39215686274509803, 0.32941176470588235, 0.24705882352941178], [0.4980392156862745, 0.43529411764705883, 0.3607843137254902], [0.49019607843137253, 0.4235294117647059, 0.33725490196078434], [0.3568627450980392, 0.2823529411764706, 0.18823529411764706], [0.6313725490196078, 0.5647058823529412, 0.4823529411764706], [0.8, 0.7411764705882353, 0.6666666666666666], [0.6745098039215687, 0.5882352941176471, 0.47843137254901963], [0.43529411764705883, 0.33725490196078434, 0.16470588235294117], [0.35294117647058826, 0.25882352941176473, 0.11372549019607843], [0.3333333333333333, 0.24313725490196078, 0.08627450980392157], [0.3137254901960784, 0.22745098039215686, 0.08235294117647059], [0.24705882352941178, 0.1803921568627451, 0.07058823529411765], [0.30196078431372547, 0.23921568627450981, 0.11372549019607843], [0.3607843137254902, 0.2784313725490196, 0.13725490196078433], [0.49019607843137253, 0.40784313725490196, 0.2627450980392157], [0.8901960784313725, 0.8392156862745098, 0.7294117647058823], [0.9137254901960784, 0.8705882352941177, 0.7725490196078432], [0.8784313725490196, 0.8235294117647058, 0.6941176470588235], [0.8352941176470589, 0.7725490196078432, 0.6235294117647059], [0.8745098039215686, 0.8274509803921568, 0.7137254901960784]], [[0.7568627450980392, 0.7215686274509804, 0.6862745098039216], [0.7176470588235294, 0.6666666666666666, 0.6039215686274509], [0.6235294117647059, 0.5333333333333333, 0.41568627450980394], [0.5254901960784314, 0.4470588235294118, 0.30980392156862746], [0.4627450980392157, 0.38823529411764707, 0.27450980392156865], [0.35294117647058826, 0.2549019607843137, 0.10980392156862745], [0.3411764705882353, 0.24705882352941178, 0.10588235294117647], [0.3254901960784314, 0.24313725490196078, 0.12156862745098039], [0.4666666666666667, 0.3764705882352941, 0.25098039215686274], [0.596078431372549, 0.48627450980392156, 0.33725490196078434], [0.4627450980392157, 0.36470588235294116, 0.2196078431372549], [0.403921568627451, 0.3176470588235294, 0.2], [0.35294117647058826, 0.28627450980392155, 0.19607843137254902], [0.4627450980392157, 0.396078431372549, 0.3215686274509804], [0.4745098039215686, 0.4117647058823529, 0.33725490196078434], [0.44313725490196076, 0.37254901960784315, 0.2901960784313726], [0.41568627450980394, 0.3411764705882353, 0.25098039215686274], [0.5372549019607843, 0.4627450980392157, 0.37254901960784315], [0.6274509803921569, 0.5372549019607843, 0.41568627450980394], [0.49019607843137253, 0.3803921568627451, 0.21568627450980393], [0.4196078431372549, 0.3176470588235294, 0.15294117647058825], [0.3607843137254902, 0.2627450980392157, 0.10588235294117647], [0.2823529411764706, 0.2, 0.08235294117647059], [0.20392156862745098, 0.13725490196078433, 0.0784313725490196], [0.21568627450980393, 0.1568627450980392, 0.07450980392156863], [0.24705882352941178, 0.1843137254901961, 0.10196078431372549], [0.7254901960784313, 0.6627450980392157, 0.5529411764705883], [0.9254901960784314, 0.8862745098039215, 0.8], [0.9137254901960784, 0.8627450980392157, 0.7568627450980392], [0.9019607843137255, 0.8431372549019608, 0.7294117647058823], [0.8156862745098039, 0.7529411764705882, 0.596078431372549], [0.792156862745098, 0.7176470588235294, 0.5568627450980392]], [[0.6941176470588235, 0.6549019607843137, 0.6235294117647059], [0.6627450980392157, 0.6196078431372549, 0.5450980392156862], [0.5137254901960784, 0.4588235294117647, 0.36470588235294116], [0.38823529411764707, 0.3215686274509804, 0.2235294117647059], [0.4823529411764706, 0.40784313725490196, 0.3058823529411765], [0.2823529411764706, 0.20784313725490197, 0.09411764705882353], [0.2980392156862745, 0.21568627450980393, 0.09411764705882353], [0.29411764705882354, 0.2196078431372549, 0.10588235294117647], [0.38823529411764707, 0.3176470588235294, 0.2], [0.5411764705882353, 0.43529411764705883, 0.29411764705882354], [0.4117647058823529, 0.3254901960784314, 0.2], [0.3215686274509804, 0.24313725490196078, 0.1450980392156863], [0.23529411764705882, 0.17647058823529413, 0.10588235294117647], [0.396078431372549, 0.3333333333333333, 0.24705882352941178], [0.44313725490196076, 0.3686274509803922, 0.28627450980392155], [0.4745098039215686, 0.403921568627451, 0.3215686274509804], [0.43137254901960786, 0.3607843137254902, 0.2784313725490196], [0.3803921568627451, 0.29411764705882354, 0.2], [0.3254901960784314, 0.2627450980392157, 0.1843137254901961], [0.39215686274509803, 0.30196078431372547, 0.16470588235294117], [0.4470588235294118, 0.3411764705882353, 0.1568627450980392], [0.35294117647058826, 0.2549019607843137, 0.11372549019607843], [0.25882352941176473, 0.1803921568627451, 0.08627450980392157], [0.17647058823529413, 0.11372549019607843, 0.08627450980392157], [0.17647058823529413, 0.12156862745098039, 0.0784313725490196], [0.5098039215686274, 0.45098039215686275, 0.35294117647058826], [0.8823529411764706, 0.8274509803921568, 0.7215686274509804], [0.9137254901960784, 0.8666666666666667, 0.7725490196078432], [0.9215686274509803, 0.8823529411764706, 0.7843137254901961], [0.8901960784313725, 0.8392156862745098, 0.7294117647058823], [0.8470588235294118, 0.788235294117647, 0.6549019607843137], [0.7647058823529411, 0.6862745098039216, 0.5215686274509804]], [[0.6980392156862745, 0.6705882352941176, 0.6078431372549019], [0.6980392156862745, 0.6705882352941176, 0.596078431372549], [0.6235294117647059, 0.5803921568627451, 0.49019607843137253], [0.43137254901960786, 0.3803921568627451, 0.2980392156862745], [0.47843137254901963, 0.41568627450980394, 0.32941176470588235], [0.24313725490196078, 0.17647058823529413, 0.0784313725490196], [0.28627450980392155, 0.20784313725490197, 0.09411764705882353], [0.24313725490196078, 0.17647058823529413, 0.08627450980392157], [0.3215686274509804, 0.2549019607843137, 0.14901960784313725], [0.4666666666666667, 0.37254901960784315, 0.23921568627450981], [0.35294117647058826, 0.27450980392156865, 0.1568627450980392], [0.27058823529411763, 0.2, 0.10588235294117647], [0.19607843137254902, 0.13725490196078433, 0.0784313725490196], [0.37254901960784315, 0.3058823529411765, 0.21176470588235294], [0.4627450980392157, 0.3843137254901961, 0.2980392156862745], [0.47058823529411764, 0.396078431372549, 0.3137254901960784], [0.5137254901960784, 0.44313725490196076, 0.3607843137254902], [0.4627450980392157, 0.3843137254901961, 0.29411764705882354], [0.42745098039215684, 0.34901960784313724, 0.2549019607843137], [0.3686274509803922, 0.2901960784313726, 0.1803921568627451], [0.29411764705882354, 0.21176470588235294, 0.09019607843137255], [0.2784313725490196, 0.18823529411764706, 0.08627450980392157], [0.2549019607843137, 0.1843137254901961, 0.06666666666666667], [0.1607843137254902, 0.10588235294117647, 0.050980392156862744], [0.3254901960784314, 0.26666666666666666, 0.19215686274509805], [0.8156862745098039, 0.7725490196078432, 0.6549019607843137], [0.9137254901960784, 0.8627450980392157, 0.7333333333333333], [0.8392156862745098, 0.7725490196078432, 0.6313725490196078], [0.8392156862745098, 0.7686274509803922, 0.6235294117647059], [0.8588235294117647, 0.803921568627451, 0.6666666666666666], [0.8666666666666667, 0.807843137254902, 0.6941176470588235], [0.8235294117647058, 0.7568627450980392, 0.6313725490196078]], [[0.7215686274509804, 0.6980392156862745, 0.615686274509804], [0.7019607843137254, 0.6784313725490196, 0.6078431372549019], [0.6666666666666666, 0.6352941176470588, 0.5607843137254902], [0.6078431372549019, 0.5764705882352941, 0.4980392156862745], [0.5294117647058824, 0.47843137254901963, 0.4], [0.2627450980392157, 0.19607843137254902, 0.09803921568627451], [0.27058823529411763, 0.20392156862745098, 0.09803921568627451], [0.20392156862745098, 0.14901960784313725, 0.0784313725490196], [0.3411764705882353, 0.27058823529411763, 0.17254901960784313], [0.43137254901960786, 0.34509803921568627, 0.22745098039215686], [0.3137254901960784, 0.24313725490196078, 0.13333333333333333], [0.2823529411764706, 0.20784313725490197, 0.10588235294117647], [0.2235294117647059, 0.1568627450980392, 0.0784313725490196], [0.42745098039215684, 0.3568627450980392, 0.2549019607843137], [0.5568627450980392, 0.48627450980392156, 0.4], [0.5215686274509804, 0.45098039215686275, 0.3686274509803922], [0.5450980392156862, 0.4745098039215686, 0.3803921568627451], [0.5254901960784314, 0.4588235294117647, 0.37254901960784315], [0.5058823529411764, 0.4392156862745098, 0.33725490196078434], [0.49019607843137253, 0.41568627450980394, 0.3176470588235294], [0.4588235294117647, 0.3803921568627451, 0.28627450980392155], [0.3568627450980392, 0.28627450980392155, 0.17647058823529413], [0.403921568627451, 0.33725490196078434, 0.23137254901960785], [0.40784313725490196, 0.35294117647058826, 0.2901960784313726], [0.47843137254901963, 0.37254901960784315, 0.2627450980392157], [0.6784313725490196, 0.5568627450980392, 0.45098039215686275], [0.8235294117647058, 0.7568627450980392, 0.6627450980392157], [0.9058823529411765, 0.8549019607843137, 0.7215686274509804], [0.807843137254902, 0.7411764705882353, 0.5607843137254902], [0.8235294117647058, 0.7568627450980392, 0.6039215686274509], [0.8627450980392157, 0.803921568627451, 0.6901960784313725], [0.8352941176470589, 0.7686274509803922, 0.6549019607843137]], [[0.7019607843137254, 0.6745098039215687, 0.6], [0.6901960784313725, 0.6666666666666666, 0.5843137254901961], [0.6705882352941176, 0.6392156862745098, 0.5686274509803921], [0.6235294117647059, 0.5882352941176471, 0.5137254901960784], [0.5411764705882353, 0.49411764705882355, 0.4117647058823529], [0.26666666666666666, 0.2, 0.10196078431372549], [0.23921568627450981, 0.17647058823529413, 0.09019607843137255], [0.17254901960784313, 0.12156862745098039, 0.06274509803921569], [0.403921568627451, 0.3254901960784314, 0.21568627450980393], [0.41568627450980394, 0.32941176470588235, 0.20392156862745098], [0.2823529411764706, 0.21568627450980393, 0.11372549019607843], [0.2980392156862745, 0.2196078431372549, 0.10980392156862745], [0.3803921568627451, 0.3058823529411765, 0.19607843137254902], [0.5764705882352941, 0.5019607843137255, 0.38823529411764707], [0.6, 0.5372549019607843, 0.4392156862745098], [0.5764705882352941, 0.5176470588235295, 0.42745098039215684], [0.5843137254901961, 0.5137254901960784, 0.4235294117647059], [0.5568627450980392, 0.49019607843137253, 0.4], [0.5607843137254902, 0.49411764705882355, 0.403921568627451], [0.5803921568627451, 0.5137254901960784, 0.4235294117647059], [0.6588235294117647, 0.596078431372549, 0.5019607843137255], [0.6627450980392157, 0.6039215686274509, 0.5137254901960784], [0.6549019607843137, 0.592156862745098, 0.5294117647058824], [0.5176470588235295, 0.43137254901960786, 0.34901960784313724], [0.6431372549019608, 0.48627450980392156, 0.37254901960784315], [0.6901960784313725, 0.5176470588235295, 0.4117647058823529], [0.596078431372549, 0.4549019607843137, 0.3333333333333333], [0.6509803921568628, 0.5647058823529412, 0.4470588235294118], [0.807843137254902, 0.7372549019607844, 0.611764705882353], [0.8470588235294118, 0.7843137254901961, 0.6274509803921569], [0.8588235294117647, 0.8, 0.6509803921568628], [0.7372549019607844, 0.6745098039215687, 0.5176470588235295]], [[0.6901960784313725, 0.6588235294117647, 0.5882352941176471], [0.6705882352941176, 0.6431372549019608, 0.5607843137254902], [0.6431372549019608, 0.611764705882353, 0.5411764705882353], [0.596078431372549, 0.5647058823529412, 0.49411764705882355], [0.5254901960784314, 0.49019607843137253, 0.41568627450980394], [0.34901960784313724, 0.28627450980392155, 0.1803921568627451], [0.20784313725490197, 0.14901960784313725, 0.07450980392156863], [0.2196078431372549, 0.16470588235294117, 0.10196078431372549], [0.4470588235294118, 0.34901960784313724, 0.21568627450980393], [0.3568627450980392, 0.2823529411764706, 0.1607843137254902], [0.26666666666666666, 0.20392156862745098, 0.10588235294117647], [0.3333333333333333, 0.2549019607843137, 0.15294117647058825], [0.4549019607843137, 0.39215686274509803, 0.30196078431372547], [0.6, 0.5333333333333333, 0.43137254901960786], [0.6, 0.5333333333333333, 0.43529411764705883], [0.596078431372549, 0.5333333333333333, 0.4470588235294118], [0.6039215686274509, 0.5372549019607843, 0.44313725490196076], [0.6039215686274509, 0.5294117647058824, 0.42745098039215684], [0.5843137254901961, 0.5176470588235295, 0.4196078431372549], [0.611764705882353, 0.5490196078431373, 0.4549019607843137], [0.6862745098039216, 0.6313725490196078, 0.5686274509803921], [0.6666666666666666, 0.615686274509804, 0.5529411764705883], [0.5058823529411764, 0.4235294117647059, 0.34509803921568627], [0.5372549019607843, 0.39215686274509803, 0.2901960784313726], [0.6823529411764706, 0.5019607843137255, 0.403921568627451], [0.7019607843137254, 0.5254901960784314, 0.4235294117647059], [0.6901960784313725, 0.5058823529411764, 0.39215686274509803], [0.5686274509803921, 0.4196078431372549, 0.30196078431372547], [0.44313725490196076, 0.33725490196078434, 0.22745098039215686], [0.4980392156862745, 0.4235294117647059, 0.3176470588235294], [0.5333333333333333, 0.47058823529411764, 0.35294117647058826], [0.49411764705882355, 0.43137254901960786, 0.30196078431372547]], [[0.6588235294117647, 0.6274509803921569, 0.5529411764705883], [0.6470588235294118, 0.6196078431372549, 0.5450980392156862], [0.6039215686274509, 0.5764705882352941, 0.49411764705882355], [0.5450980392156862, 0.5215686274509804, 0.4392156862745098], [0.48627450980392156, 0.4588235294117647, 0.3843137254901961], [0.41568627450980394, 0.3607843137254902, 0.25882352941176473], [0.19607843137254902, 0.1411764705882353, 0.0784313725490196], [0.25098039215686274, 0.19607843137254902, 0.10980392156862745], [0.403921568627451, 0.3176470588235294, 0.15294117647058825], [0.2784313725490196, 0.21176470588235294, 0.12156862745098039], [0.24705882352941178, 0.1843137254901961, 0.10980392156862745], [0.3254901960784314, 0.25098039215686274, 0.1568627450980392], [0.40784313725490196, 0.34901960784313724, 0.2784313725490196], [0.6, 0.5372549019607843, 0.4549019607843137], [0.6274509803921569, 0.5607843137254902, 0.4627450980392157], [0.592156862745098, 0.5254901960784314, 0.44313725490196076], [0.6078431372549019, 0.5490196078431373, 0.4549019607843137], [0.611764705882353, 0.5372549019607843, 0.43137254901960786], [0.5843137254901961, 0.5176470588235295, 0.41568627450980394], [0.5882352941176471, 0.5254901960784314, 0.43137254901960786], [0.6352941176470588, 0.5725490196078431, 0.4980392156862745], [0.5294117647058824, 0.45098039215686275, 0.3686274509803922], [0.4823529411764706, 0.34509803921568627, 0.24705882352941178], [0.6, 0.4235294117647059, 0.3176470588235294], [0.6862745098039216, 0.5058823529411764, 0.4], [0.6745098039215687, 0.49019607843137253, 0.38823529411764707], [0.6470588235294118, 0.4745098039215686, 0.36470588235294116], [0.6196078431372549, 0.4588235294117647, 0.34509803921568627], [0.5058823529411764, 0.37254901960784315, 0.26666666666666666], [0.3686274509803922, 0.25882352941176473, 0.16470588235294117], [0.2901960784313726, 0.20784313725490197, 0.11764705882352941], [0.25882352941176473, 0.19215686274509805, 0.10588235294117647]], [[0.6078431372549019, 0.5764705882352941, 0.5019607843137255], [0.592156862745098, 0.5647058823529412, 0.48627450980392156], [0.5490196078431373, 0.5254901960784314, 0.4392156862745098], [0.48627450980392156, 0.4588235294117647, 0.3803921568627451], [0.42745098039215684, 0.403921568627451, 0.3254901960784314], [0.4117647058823529, 0.37254901960784315, 0.28627450980392155], [0.19215686274509805, 0.14901960784313725, 0.10588235294117647], [0.1803921568627451, 0.12941176470588237, 0.08627450980392157], [0.2901960784313726, 0.2235294117647059, 0.10588235294117647], [0.22745098039215686, 0.16862745098039217, 0.09411764705882353], [0.2, 0.13725490196078433, 0.09411764705882353], [0.30196078431372547, 0.23529411764705882, 0.15294117647058825], [0.39215686274509803, 0.33725490196078434, 0.26666666666666666], [0.615686274509804, 0.5568627450980392, 0.47843137254901963], [0.6588235294117647, 0.596078431372549, 0.5019607843137255], [0.592156862745098, 0.5294117647058824, 0.4392156862745098], [0.6196078431372549, 0.5607843137254902, 0.47843137254901963], [0.6235294117647059, 0.5607843137254902, 0.4627450980392157], [0.5882352941176471, 0.5176470588235295, 0.41568627450980394], [0.5411764705882353, 0.4823529411764706, 0.38823529411764707], [0.49019607843137253, 0.40784313725490196, 0.3137254901960784], [0.47843137254901963, 0.33725490196078434, 0.24313725490196078], [0.5607843137254902, 0.3764705882352941, 0.27058823529411763], [0.6078431372549019, 0.42745098039215684, 0.3254901960784314], [0.6588235294117647, 0.47843137254901963, 0.37254901960784315], [0.6784313725490196, 0.5019607843137255, 0.39215686274509803], [0.6078431372549019, 0.44313725490196076, 0.33725490196078434], [0.5725490196078431, 0.40784313725490196, 0.30196078431372547], [0.5254901960784314, 0.3764705882352941, 0.25882352941176473], [0.4745098039215686, 0.3411764705882353, 0.23137254901960785], [0.37254901960784315, 0.27450980392156865, 0.1843137254901961], [0.27058823529411763, 0.2, 0.12941176470588237]], [[0.5647058823529412, 0.5372549019607843, 0.4627450980392157], [0.5294117647058824, 0.5019607843137255, 0.42745098039215684], [0.49019607843137253, 0.4627450980392157, 0.3843137254901961], [0.4235294117647059, 0.396078431372549, 0.32941176470588235], [0.3843137254901961, 0.3607843137254902, 0.2980392156862745], [0.3843137254901961, 0.3568627450980392, 0.2901960784313726], [0.23529411764705882, 0.2, 0.1607843137254902], [0.13333333333333333, 0.09411764705882353, 0.08235294117647059], [0.19215686274509805, 0.13725490196078433, 0.09019607843137255], [0.20784313725490197, 0.1450980392156863, 0.08235294117647059], [0.1843137254901961, 0.12549019607843137, 0.08235294117647059], [0.27450980392156865, 0.21568627450980393, 0.13333333333333333], [0.3764705882352941, 0.32941176470588235, 0.2549019607843137], [0.6, 0.5450980392156862, 0.47058823529411764], [0.6431372549019608, 0.5843137254901961, 0.4980392156862745], [0.6039215686274509, 0.5411764705882353, 0.45098039215686275], [0.615686274509804, 0.5529411764705883, 0.4823529411764706], [0.5607843137254902, 0.5019607843137255, 0.41568627450980394], [0.6, 0.5333333333333333, 0.4470588235294118], [0.5176470588235295, 0.4627450980392157, 0.3568627450980392], [0.4666666666666667, 0.34509803921568627, 0.2627450980392157], [0.5411764705882353, 0.35294117647058826, 0.27058823529411763], [0.6, 0.4117647058823529, 0.3254901960784314], [0.6235294117647059, 0.44313725490196076, 0.34901960784313724], [0.6392156862745098, 0.4549019607843137, 0.3607843137254902], [0.6235294117647059, 0.4470588235294118, 0.34901960784313724], [0.5764705882352941, 0.4117647058823529, 0.30980392156862746], [0.5529411764705883, 0.38823529411764707, 0.2980392156862745], [0.49019607843137253, 0.34901960784313724, 0.24705882352941178], [0.3843137254901961, 0.26666666666666666, 0.1803921568627451], [0.3215686274509804, 0.23529411764705882, 0.1568627450980392], [0.27058823529411763, 0.20784313725490197, 0.13333333333333333]], [[0.4980392156862745, 0.4666666666666667, 0.396078431372549], [0.4627450980392157, 0.43529411764705883, 0.36470588235294116], [0.41568627450980394, 0.39215686274509803, 0.3215686274509804], [0.33725490196078434, 0.3137254901960784, 0.24705882352941178], [0.2627450980392157, 0.24313725490196078, 0.1843137254901961], [0.2980392156862745, 0.27450980392156865, 0.21568627450980393], [0.29411764705882354, 0.25882352941176473, 0.2196078431372549], [0.12941176470588237, 0.10196078431372549, 0.07058823529411765], [0.1568627450980392, 0.12549019607843137, 0.08627450980392157], [0.2549019607843137, 0.19215686274509805, 0.10588235294117647], [0.20784313725490197, 0.1568627450980392, 0.08627450980392157], [0.26666666666666666, 0.21568627450980393, 0.12941176470588237], [0.403921568627451, 0.34509803921568627, 0.27450980392156865], [0.5764705882352941, 0.5176470588235295, 0.44313725490196076], [0.6039215686274509, 0.5411764705882353, 0.4627450980392157], [0.611764705882353, 0.5490196078431373, 0.4666666666666667], [0.6, 0.5372549019607843, 0.4588235294117647], [0.5764705882352941, 0.5176470588235295, 0.43529411764705883], [0.5843137254901961, 0.5372549019607843, 0.43529411764705883], [0.45098039215686275, 0.396078431372549, 0.2980392156862745], [0.42745098039215684, 0.33725490196078434, 0.25098039215686274], [0.6, 0.43529411764705883, 0.3686274509803922], [0.6352941176470588, 0.44313725490196076, 0.3686274509803922], [0.6313725490196078, 0.44313725490196076, 0.35294117647058826], [0.6274509803921569, 0.4392156862745098, 0.34901960784313724], [0.5725490196078431, 0.403921568627451, 0.3058823529411765], [0.5490196078431373, 0.39215686274509803, 0.2901960784313726], [0.49411764705882355, 0.35294117647058826, 0.25098039215686274], [0.42745098039215684, 0.2980392156862745, 0.20392156862745098], [0.3411764705882353, 0.25098039215686274, 0.17647058823529413], [0.2823529411764706, 0.21176470588235294, 0.1411764705882353], [0.2901960784313726, 0.2235294117647059, 0.12941176470588237]], [[0.40784313725490196, 0.3843137254901961, 0.3137254901960784], [0.3764705882352941, 0.34901960784313724, 0.28627450980392155], [0.36470588235294116, 0.3411764705882353, 0.27450980392156865], [0.29411764705882354, 0.27058823529411763, 0.20392156862745098], [0.2, 0.1843137254901961, 0.12549019607843137], [0.1803921568627451, 0.1607843137254902, 0.10980392156862745], [0.3137254901960784, 0.28627450980392155, 0.24313725490196078], [0.14901960784313725, 0.12156862745098039, 0.08627450980392157], [0.2784313725490196, 0.2235294117647059, 0.13725490196078433], [0.403921568627451, 0.30980392156862746, 0.16470588235294117], [0.21176470588235294, 0.16470588235294117, 0.08235294117647059], [0.2823529411764706, 0.23529411764705882, 0.1568627450980392], [0.41568627450980394, 0.3568627450980392, 0.28627450980392155], [0.5568627450980392, 0.4980392156862745, 0.4235294117647059], [0.592156862745098, 0.5254901960784314, 0.4470588235294118], [0.611764705882353, 0.5490196078431373, 0.4745098039215686], [0.6235294117647059, 0.5725490196078431, 0.5019607843137255], [0.6274509803921569, 0.5686274509803921, 0.4823529411764706], [0.5176470588235295, 0.4470588235294118, 0.34901960784313724], [0.403921568627451, 0.35294117647058826, 0.2627450980392157], [0.4392156862745098, 0.403921568627451, 0.3058823529411765], [0.6, 0.5450980392156862, 0.47058823529411764], [0.5294117647058824, 0.4, 0.2980392156862745], [0.6235294117647059, 0.45098039215686275, 0.35294117647058826], [0.6392156862745098, 0.43529411764705883, 0.34901960784313724], [0.5803921568627451, 0.403921568627451, 0.30980392156862746], [0.5215686274509804, 0.3686274509803922, 0.26666666666666666], [0.45098039215686275, 0.3215686274509804, 0.21568627450980393], [0.3803921568627451, 0.2627450980392157, 0.17254901960784313], [0.30196078431372547, 0.22745098039215686, 0.1411764705882353], [0.30980392156862746, 0.24705882352941178, 0.1568627450980392], [0.48627450980392156, 0.4196078431372549, 0.2901960784313726]], [[0.33725490196078434, 0.3137254901960784, 0.25098039215686274], [0.30196078431372547, 0.2784313725490196, 0.2196078431372549], [0.30196078431372547, 0.2784313725490196, 0.2235294117647059], [0.23529411764705882, 0.21176470588235294, 0.1607843137254902], [0.1843137254901961, 0.16470588235294117, 0.12156862745098039], [0.1607843137254902, 0.1450980392156863, 0.10196078431372549], [0.25098039215686274, 0.23137254901960785, 0.19215686274509805], [0.2901960784313726, 0.25882352941176473, 0.21568627450980393], [0.36470588235294116, 0.2980392156862745, 0.16470588235294117], [0.3137254901960784, 0.23921568627450981, 0.13333333333333333], [0.18823529411764706, 0.1450980392156863, 0.08627450980392157], [0.25882352941176473, 0.2196078431372549, 0.1568627450980392], [0.4588235294117647, 0.4, 0.3333333333333333], [0.5490196078431373, 0.48627450980392156, 0.4117647058823529], [0.5803921568627451, 0.5176470588235295, 0.44313725490196076], [0.611764705882353, 0.5490196078431373, 0.47843137254901963], [0.6392156862745098, 0.5803921568627451, 0.5254901960784314], [0.592156862745098, 0.4980392156862745, 0.41568627450980394], [0.4745098039215686, 0.34901960784313724, 0.2627450980392157], [0.4, 0.32941176470588235, 0.24313725490196078], [0.4980392156862745, 0.44313725490196076, 0.3568627450980392], [0.40784313725490196, 0.36470588235294116, 0.2784313725490196], [0.2901960784313726, 0.2627450980392157, 0.2], [0.42745098039215684, 0.34901960784313724, 0.27450980392156865], [0.5764705882352941, 0.403921568627451, 0.3254901960784314], [0.5411764705882353, 0.37254901960784315, 0.2823529411764706], [0.4745098039215686, 0.3215686274509804, 0.23921568627450981], [0.41568627450980394, 0.2901960784313726, 0.20392156862745098], [0.3215686274509804, 0.22745098039215686, 0.1568627450980392], [0.2549019607843137, 0.19607843137254902, 0.13333333333333333], [0.35294117647058826, 0.29411764705882354, 0.21176470588235294], [0.5372549019607843, 0.4745098039215686, 0.36470588235294116]], [[0.2549019607843137, 0.23137254901960785, 0.1803921568627451], [0.24313725490196078, 0.2235294117647059, 0.16862745098039217], [0.22745098039215686, 0.21176470588235294, 0.1607843137254902], [0.1843137254901961, 0.16862745098039217, 0.12941176470588237], [0.17254901960784313, 0.15294117647058825, 0.11372549019607843], [0.14901960784313725, 0.13333333333333333, 0.10196078431372549], [0.15294117647058825, 0.1411764705882353, 0.10980392156862745], [0.34901960784313724, 0.3176470588235294, 0.2627450980392157], [0.21176470588235294, 0.16862745098039217, 0.12156862745098039], [0.17647058823529413, 0.13725490196078433, 0.08627450980392157], [0.19215686274509805, 0.15294117647058825, 0.10980392156862745], [0.2549019607843137, 0.2196078431372549, 0.17254901960784313], [0.47843137254901963, 0.42745098039215684, 0.3568627450980392], [0.5450980392156862, 0.4823529411764706, 0.403921568627451], [0.6039215686274509, 0.5372549019607843, 0.4666666666666667], [0.615686274509804, 0.5568627450980392, 0.49019607843137253], [0.592156862745098, 0.47843137254901963, 0.4], [0.5803921568627451, 0.4196078431372549, 0.3333333333333333], [0.5490196078431373, 0.37254901960784315, 0.29411764705882354], [0.4588235294117647, 0.3254901960784314, 0.25098039215686274], [0.44313725490196076, 0.38823529411764707, 0.3058823529411765], [0.3803921568627451, 0.33725490196078434, 0.28627450980392155], [0.3254901960784314, 0.2901960784313726, 0.24313725490196078], [0.27450980392156865, 0.23529411764705882, 0.20784313725490197], [0.47843137254901963, 0.34509803921568627, 0.28627450980392155], [0.48627450980392156, 0.3254901960784314, 0.23921568627450981], [0.43529411764705883, 0.29411764705882354, 0.2196078431372549], [0.3764705882352941, 0.26666666666666666, 0.19215686274509805], [0.28627450980392155, 0.22745098039215686, 0.16862745098039217], [0.27450980392156865, 0.23529411764705882, 0.19215686274509805], [0.27450980392156865, 0.22745098039215686, 0.16470588235294117], [0.4745098039215686, 0.40784313725490196, 0.32941176470588235]], [[0.20784313725490197, 0.19607843137254902, 0.13725490196078433], [0.19607843137254902, 0.1843137254901961, 0.13725490196078433], [0.18823529411764706, 0.17254901960784313, 0.12549019607843137], [0.16862745098039217, 0.15294117647058825, 0.11372549019607843], [0.1607843137254902, 0.1411764705882353, 0.10980392156862745], [0.14901960784313725, 0.13725490196078433, 0.10588235294117647], [0.12156862745098039, 0.10980392156862745, 0.08627450980392157], [0.21568627450980393, 0.2, 0.16862745098039217], [0.30196078431372547, 0.27058823529411763, 0.23529411764705882], [0.14901960784313725, 0.11372549019607843, 0.08627450980392157], [0.1411764705882353, 0.11764705882352941, 0.09019607843137255], [0.23529411764705882, 0.20784313725490197, 0.16862745098039217], [0.47058823529411764, 0.4117647058823529, 0.34901960784313724], [0.5372549019607843, 0.4745098039215686, 0.39215686274509803], [0.5725490196078431, 0.5137254901960784, 0.42745098039215684], [0.5764705882352941, 0.4823529411764706, 0.4], [0.6039215686274509, 0.43529411764705883, 0.34509803921568627], [0.611764705882353, 0.4235294117647059, 0.3333333333333333], [0.5882352941176471, 0.403921568627451, 0.3137254901960784], [0.5607843137254902, 0.3843137254901961, 0.2980392156862745], [0.43137254901960786, 0.3568627450980392, 0.2901960784313726], [0.29411764705882354, 0.2549019607843137, 0.21568627450980393], [0.33725490196078434, 0.28627450980392155, 0.2235294117647059], [0.24705882352941178, 0.23137254901960785, 0.1843137254901961], [0.4, 0.2980392156862745, 0.24313725490196078], [0.5098039215686274, 0.33725490196078434, 0.2549019607843137], [0.43529411764705883, 0.2980392156862745, 0.2196078431372549], [0.3176470588235294, 0.23529411764705882, 0.17647058823529413], [0.23137254901960785, 0.20392156862745098, 0.14901960784313725], [0.3254901960784314, 0.29411764705882354, 0.24705882352941178], [0.3176470588235294, 0.27450980392156865, 0.21176470588235294], [0.47058823529411764, 0.403921568627451, 0.3215686274509804]]]]}'"
            ]
          },
          "metadata": {
            "tags": []
          },
          "execution_count": 28
        }
      ]
    },
    {
      "cell_type": "markdown",
      "metadata": {
        "id": "KZDKjyfbPoIa",
        "colab_type": "text"
      },
      "source": [
        "### Sending the first POST request to the model"
      ]
    },
    {
      "cell_type": "code",
      "metadata": {
        "id": "7oFbtxiyPe4p",
        "colab_type": "code",
        "colab": {}
      },
      "source": [
        "headers = {\"content-type\":\"application/json\"}"
      ],
      "execution_count": 0,
      "outputs": []
    },
    {
      "cell_type": "code",
      "metadata": {
        "id": "yJ2jYESfls1H",
        "colab_type": "code",
        "colab": {}
      },
      "source": [
        "!unzip 'Flask-API.zip'"
      ],
      "execution_count": 0,
      "outputs": []
    },
    {
      "cell_type": "code",
      "metadata": {
        "id": "I5KHh02nQYIJ",
        "colab_type": "code",
        "colab": {}
      },
      "source": [
        "json_response = requests.post(url=\"http://localhost:8501/v1/models/cifar10:predict\", data=data, headers=headers)"
      ],
      "execution_count": 0,
      "outputs": []
    },
    {
      "cell_type": "code",
      "metadata": {
        "id": "bMYkCQ4gQ2tR",
        "colab_type": "code",
        "outputId": "5bbcebe9-f0e9-4291-88e1-c263df9008c3",
        "colab": {
          "base_uri": "https://localhost:8080/",
          "height": 34
        }
      },
      "source": [
        "json_response"
      ],
      "execution_count": 31,
      "outputs": [
        {
          "output_type": "execute_result",
          "data": {
            "text/plain": [
              "<Response [200]>"
            ]
          },
          "metadata": {
            "tags": []
          },
          "execution_count": 31
        }
      ]
    },
    {
      "cell_type": "code",
      "metadata": {
        "id": "UtoG2441Q4_I",
        "colab_type": "code",
        "colab": {}
      },
      "source": [
        "predictions = json.loads(json_response.text)['predictions']"
      ],
      "execution_count": 0,
      "outputs": []
    },
    {
      "cell_type": "code",
      "metadata": {
        "id": "hA-jN6xSRK2S",
        "colab_type": "code",
        "outputId": "fac8da92-53b4-4e11-ffb1-058e2c8e0567",
        "colab": {
          "base_uri": "https://localhost:8080/",
          "height": 187
        }
      },
      "source": [
        "predictions"
      ],
      "execution_count": 33,
      "outputs": [
        {
          "output_type": "execute_result",
          "data": {
            "text/plain": [
              "[[7.588827e-20,\n",
              "  8.70252708e-27,\n",
              "  1.13026552e-07,\n",
              "  0.00059137732,\n",
              "  1.75474422e-17,\n",
              "  0.999408484,\n",
              "  1.87863284e-11,\n",
              "  1.36786318e-10,\n",
              "  3.73971337e-27,\n",
              "  2.99875e-19]]"
            ]
          },
          "metadata": {
            "tags": []
          },
          "execution_count": 33
        }
      ]
    },
    {
      "cell_type": "code",
      "metadata": {
        "id": "KlyFNxrxRL_A",
        "colab_type": "code",
        "outputId": "68e15cce-41a2-4c8e-ae22-9f6ae18426f3",
        "colab": {
          "base_uri": "https://localhost:8080/",
          "height": 283
        }
      },
      "source": [
        "plt.imshow(X_test[0])"
      ],
      "execution_count": 48,
      "outputs": [
        {
          "output_type": "execute_result",
          "data": {
            "text/plain": [
              "<matplotlib.image.AxesImage at 0x7f7740257240>"
            ]
          },
          "metadata": {
            "tags": []
          },
          "execution_count": 48
        },
        {
          "output_type": "display_data",
          "data": {
            "image/png": "[encoded data removed]",
            "text/plain": [
              "<Figure size 432x288 with 1 Axes>"
            ]
          },
          "metadata": {
            "tags": []
          }
        }
      ]
    },
    {
      "cell_type": "code",
      "metadata": {
        "id": "E3WbrMl_RW1Y",
        "colab_type": "code",
        "outputId": "42b78761-84e1-4a5c-efff-98f2445ba847",
        "colab": {
          "base_uri": "https://localhost:8080/",
          "height": 34
        }
      },
      "source": [
        "class_names[np.argmax(predictions[0])]"
      ],
      "execution_count": 47,
      "outputs": [
        {
          "output_type": "execute_result",
          "data": {
            "text/plain": [
              "'dog'"
            ]
          },
          "metadata": {
            "tags": []
          },
          "execution_count": 47
        }
      ]
    },
    {
      "cell_type": "markdown",
      "metadata": {
        "id": "OVN6T3tFR_IQ",
        "colab_type": "text"
      },
      "source": [
        "## Stage 8: Sending the POST request to a specific model"
      ]
    },
    {
      "cell_type": "code",
      "metadata": {
        "id": "5TYXGo-XRkCo",
        "colab_type": "code",
        "colab": {}
      },
      "source": [
        "specific_json_response = requests.post(url=\"http://localhost:8501/v1/models/cifar10/versions/1:predict\", data=data, headers=headers)"
      ],
      "execution_count": 0,
      "outputs": []
    },
    {
      "cell_type": "code",
      "metadata": {
        "id": "TF9nOKVeS9ER",
        "colab_type": "code",
        "outputId": "a6c8476a-7abf-4bf1-91af-a3d05d2c2d0a",
        "colab": {
          "base_uri": "https://localhost:8080/",
          "height": 34
        }
      },
      "source": [
        "specific_json_response"
      ],
      "execution_count": 44,
      "outputs": [
        {
          "output_type": "execute_result",
          "data": {
            "text/plain": [
              "<Response [200]>"
            ]
          },
          "metadata": {
            "tags": []
          },
          "execution_count": 44
        }
      ]
    },
    {
      "cell_type": "code",
      "metadata": {
        "id": "EZGwCkeMS-qg",
        "colab_type": "code",
        "colab": {}
      },
      "source": [
        ""
      ],
      "execution_count": 0,
      "outputs": []
    }
  ]
}